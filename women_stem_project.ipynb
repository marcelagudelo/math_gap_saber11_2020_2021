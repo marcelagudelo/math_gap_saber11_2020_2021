{
  "cells": [
    {
      "cell_type": "markdown",
      "metadata": {
        "id": "view-in-github",
        "colab_type": "text"
      },
      "source": [
        "<a href=\"https://colab.research.google.com/github/marcelagudelo/math_gap_saber11_2020_2021/blob/main/women_stem_project.ipynb\" target=\"_parent\"><img src=\"https://colab.research.google.com/assets/colab-badge.svg\" alt=\"Open In Colab\"/></a>"
      ]
    },
    {
      "cell_type": "markdown",
      "metadata": {
        "id": "XAIc34bMTBuL"
      },
      "source": [
        "# **Cálculo de las brechas de género en el módulo de matemáticas de las pruebas saber 11 en Colombia para los años 2020 y 2021**\n",
        "\n",
        "\n",
        "---\n",
        "\n"
      ]
    },
    {
      "cell_type": "code",
      "execution_count": 11,
      "metadata": {
        "id": "3FqRWO4JjVNV"
      },
      "outputs": [],
      "source": [
        ""
      ]
    },
    {
      "cell_type": "markdown",
      "metadata": {
        "id": "KJ_LntljTl7V"
      },
      "source": [
        "# Importar datos\n",
        "[Se importaron los datos del portal del icfes](https://www2.icfes.gov.co/web/guest/investigadores-y-estudiantes-posgrado/acceso-a-bases-de-datos)\n",
        "\n",
        "*El análisis se centra en los resultados de los semestres 2020-2 y 2021-2*"
      ]
    },
    {
      "cell_type": "code",
      "execution_count": 12,
      "metadata": {
        "id": "2FM6vq99gn2n"
      },
      "outputs": [],
      "source": [
        "import numpy as np\n",
        "import pandas as pd\n",
        "import matplotlib.pyplot as plt\n",
        "import seaborn as sns"
      ]
    },
    {
      "cell_type": "code",
      "execution_count": 13,
      "metadata": {
        "id": "p_FPp2lkqQ5T"
      },
      "outputs": [],
      "source": [
        "pd.set_option('display.max_rows', None)"
      ]
    },
    {
      "cell_type": "code",
      "execution_count": 14,
      "metadata": {
        "colab": {
          "base_uri": "https://localhost:8080/"
        },
        "id": "un9ULqx23OKM",
        "outputId": "0c5ae398-8a26-41be-d410-7efd700b0a73"
      },
      "outputs": [
        {
          "output_type": "stream",
          "name": "stdout",
          "text": [
            "Drive already mounted at /content/drive; to attempt to forcibly remount, call drive.mount(\"/content/drive\", force_remount=True).\n"
          ]
        }
      ],
      "source": [
        "from google.colab import drive\n",
        "drive.mount('/content/drive')"
      ]
    },
    {
      "cell_type": "markdown",
      "metadata": {
        "id": "yin9IwgxXsXX"
      },
      "source": [
        "Se cargan los datos como dataframes con la libreria pandas"
      ]
    },
    {
      "cell_type": "code",
      "execution_count": 15,
      "metadata": {
        "colab": {
          "base_uri": "https://localhost:8080/"
        },
        "id": "51w5VLFCkICm",
        "outputId": "59bd61ad-f7e1-4955-b68c-695e05e875f8"
      },
      "outputs": [
        {
          "output_type": "stream",
          "name": "stderr",
          "text": [
            "/usr/local/lib/python3.7/dist-packages/pandas/util/_decorators.py:311: ParserWarning: Falling back to the 'python' engine because the separator encoded in utf-8 is > 1 char long, and the 'c' engine does not support such separators; you can avoid this warning by specifying engine='python'.\n",
            "  return func(*args, **kwargs)\n"
          ]
        }
      ],
      "source": [
        "sb11_20202 = pd.read_csv('/content/drive/MyDrive/wom-en stem project/SB11_20202.txt', delimiter='¬')\n",
        "sb11_20212 = pd.read_csv('/content/drive/MyDrive/wom-en stem project/SB11_20212.txt', delimiter='¬')"
      ]
    },
    {
      "cell_type": "code",
      "execution_count": 16,
      "metadata": {
        "colab": {
          "base_uri": "https://localhost:8080/"
        },
        "id": "PwnJoCC5kAGe",
        "outputId": "22970cff-4df7-4209-afea-f6abe83aa11d"
      },
      "outputs": [
        {
          "output_type": "stream",
          "name": "stdout",
          "text": [
            "\u001b[0m\u001b[01;34mdrive\u001b[0m/  \u001b[01;34msample_data\u001b[0m/\n"
          ]
        }
      ],
      "source": [
        "ls"
      ]
    },
    {
      "cell_type": "code",
      "execution_count": 17,
      "metadata": {
        "colab": {
          "base_uri": "https://localhost:8080/",
          "height": 622
        },
        "id": "8PvqjOObkYLr",
        "outputId": "e17555dc-d2c9-4409-e6c7-5f171d3e7a7f"
      },
      "outputs": [
        {
          "output_type": "display_data",
          "data": {
            "text/plain": [
              "  ESTU_TIPODOCUMENTO ESTU_NACIONALIDAD ESTU_GENERO ESTU_FECHANACIMIENTO  \\\n",
              "0                 TI          COLOMBIA           M           03/07/2003   \n",
              "1                 TI          COLOMBIA           F           16/06/2003   \n",
              "2                 TI          COLOMBIA           F           11/09/2003   \n",
              "3                 TI          COLOMBIA           M           05/03/2004   \n",
              "4                 TI          COLOMBIA           M           30/08/2003   \n",
              "\n",
              "   PERIODO  ESTU_CONSECUTIVO ESTU_ESTUDIANTE ESTU_PAIS_RESIDE ESTU_TIENEETNIA  \\\n",
              "0    20204  SB11202040001656      ESTUDIANTE         COLOMBIA              No   \n",
              "1    20204  SB11202040001763      ESTUDIANTE         COLOMBIA              No   \n",
              "2    20204  SB11202040001490      ESTUDIANTE         COLOMBIA              No   \n",
              "3    20204  SB11202040096445      ESTUDIANTE         COLOMBIA              No   \n",
              "4    20204  SB11202040048154      ESTUDIANTE         COLOMBIA              No   \n",
              "\n",
              "  ESTU_DEPTO_RESIDE  ...  PUNT_INGLES PERCENTIL_INGLES  DESEMP_INGLES  \\\n",
              "0            CALDAS  ...         48.0               61             A1   \n",
              "1            BOGOTÁ  ...         58.0               85             A2   \n",
              "2            BOGOTÁ  ...         51.0               71             A1   \n",
              "3            BOGOTÁ  ...         67.0               94             A2   \n",
              "4            TOLIMA  ...         29.0                1             A-   \n",
              "\n",
              "  PUNT_GLOBAL PERCENTIL_GLOBAL ESTU_INSE_INDIVIDUAL ESTU_NSE_INDIVIDUAL  \\\n",
              "0         261               61            61.340840                 3.0   \n",
              "1         306               87            71.825844                 4.0   \n",
              "2         321               92            57.286312                 3.0   \n",
              "3         338               96            67.476602                 4.0   \n",
              "4         225               35            43.877158                 2.0   \n",
              "\n",
              "  ESTU_NSE_ESTABLECIMIENTO ESTU_ESTADOINVESTIGACION         ESTU_GENERACION-E  \n",
              "0                      3.0                 PUBLICAR                        NO  \n",
              "1                      4.0                 PUBLICAR                        NO  \n",
              "2                      3.0                 PUBLICAR                        NO  \n",
              "3                      4.0                 PUBLICAR                        NO  \n",
              "4                      2.0                 PUBLICAR  GENERACION E - GRATUIDAD  \n",
              "\n",
              "[5 rows x 81 columns]"
            ],
            "text/html": [
              "\n",
              "  <div id=\"df-11bb0fc7-2774-414d-8aca-f2e0858ccb77\">\n",
              "    <div class=\"colab-df-container\">\n",
              "      <div>\n",
              "<style scoped>\n",
              "    .dataframe tbody tr th:only-of-type {\n",
              "        vertical-align: middle;\n",
              "    }\n",
              "\n",
              "    .dataframe tbody tr th {\n",
              "        vertical-align: top;\n",
              "    }\n",
              "\n",
              "    .dataframe thead th {\n",
              "        text-align: right;\n",
              "    }\n",
              "</style>\n",
              "<table border=\"1\" class=\"dataframe\">\n",
              "  <thead>\n",
              "    <tr style=\"text-align: right;\">\n",
              "      <th></th>\n",
              "      <th>ESTU_TIPODOCUMENTO</th>\n",
              "      <th>ESTU_NACIONALIDAD</th>\n",
              "      <th>ESTU_GENERO</th>\n",
              "      <th>ESTU_FECHANACIMIENTO</th>\n",
              "      <th>PERIODO</th>\n",
              "      <th>ESTU_CONSECUTIVO</th>\n",
              "      <th>ESTU_ESTUDIANTE</th>\n",
              "      <th>ESTU_PAIS_RESIDE</th>\n",
              "      <th>ESTU_TIENEETNIA</th>\n",
              "      <th>ESTU_DEPTO_RESIDE</th>\n",
              "      <th>...</th>\n",
              "      <th>PUNT_INGLES</th>\n",
              "      <th>PERCENTIL_INGLES</th>\n",
              "      <th>DESEMP_INGLES</th>\n",
              "      <th>PUNT_GLOBAL</th>\n",
              "      <th>PERCENTIL_GLOBAL</th>\n",
              "      <th>ESTU_INSE_INDIVIDUAL</th>\n",
              "      <th>ESTU_NSE_INDIVIDUAL</th>\n",
              "      <th>ESTU_NSE_ESTABLECIMIENTO</th>\n",
              "      <th>ESTU_ESTADOINVESTIGACION</th>\n",
              "      <th>ESTU_GENERACION-E</th>\n",
              "    </tr>\n",
              "  </thead>\n",
              "  <tbody>\n",
              "    <tr>\n",
              "      <th>0</th>\n",
              "      <td>TI</td>\n",
              "      <td>COLOMBIA</td>\n",
              "      <td>M</td>\n",
              "      <td>03/07/2003</td>\n",
              "      <td>20204</td>\n",
              "      <td>SB11202040001656</td>\n",
              "      <td>ESTUDIANTE</td>\n",
              "      <td>COLOMBIA</td>\n",
              "      <td>No</td>\n",
              "      <td>CALDAS</td>\n",
              "      <td>...</td>\n",
              "      <td>48.0</td>\n",
              "      <td>61</td>\n",
              "      <td>A1</td>\n",
              "      <td>261</td>\n",
              "      <td>61</td>\n",
              "      <td>61.340840</td>\n",
              "      <td>3.0</td>\n",
              "      <td>3.0</td>\n",
              "      <td>PUBLICAR</td>\n",
              "      <td>NO</td>\n",
              "    </tr>\n",
              "    <tr>\n",
              "      <th>1</th>\n",
              "      <td>TI</td>\n",
              "      <td>COLOMBIA</td>\n",
              "      <td>F</td>\n",
              "      <td>16/06/2003</td>\n",
              "      <td>20204</td>\n",
              "      <td>SB11202040001763</td>\n",
              "      <td>ESTUDIANTE</td>\n",
              "      <td>COLOMBIA</td>\n",
              "      <td>No</td>\n",
              "      <td>BOGOTÁ</td>\n",
              "      <td>...</td>\n",
              "      <td>58.0</td>\n",
              "      <td>85</td>\n",
              "      <td>A2</td>\n",
              "      <td>306</td>\n",
              "      <td>87</td>\n",
              "      <td>71.825844</td>\n",
              "      <td>4.0</td>\n",
              "      <td>4.0</td>\n",
              "      <td>PUBLICAR</td>\n",
              "      <td>NO</td>\n",
              "    </tr>\n",
              "    <tr>\n",
              "      <th>2</th>\n",
              "      <td>TI</td>\n",
              "      <td>COLOMBIA</td>\n",
              "      <td>F</td>\n",
              "      <td>11/09/2003</td>\n",
              "      <td>20204</td>\n",
              "      <td>SB11202040001490</td>\n",
              "      <td>ESTUDIANTE</td>\n",
              "      <td>COLOMBIA</td>\n",
              "      <td>No</td>\n",
              "      <td>BOGOTÁ</td>\n",
              "      <td>...</td>\n",
              "      <td>51.0</td>\n",
              "      <td>71</td>\n",
              "      <td>A1</td>\n",
              "      <td>321</td>\n",
              "      <td>92</td>\n",
              "      <td>57.286312</td>\n",
              "      <td>3.0</td>\n",
              "      <td>3.0</td>\n",
              "      <td>PUBLICAR</td>\n",
              "      <td>NO</td>\n",
              "    </tr>\n",
              "    <tr>\n",
              "      <th>3</th>\n",
              "      <td>TI</td>\n",
              "      <td>COLOMBIA</td>\n",
              "      <td>M</td>\n",
              "      <td>05/03/2004</td>\n",
              "      <td>20204</td>\n",
              "      <td>SB11202040096445</td>\n",
              "      <td>ESTUDIANTE</td>\n",
              "      <td>COLOMBIA</td>\n",
              "      <td>No</td>\n",
              "      <td>BOGOTÁ</td>\n",
              "      <td>...</td>\n",
              "      <td>67.0</td>\n",
              "      <td>94</td>\n",
              "      <td>A2</td>\n",
              "      <td>338</td>\n",
              "      <td>96</td>\n",
              "      <td>67.476602</td>\n",
              "      <td>4.0</td>\n",
              "      <td>4.0</td>\n",
              "      <td>PUBLICAR</td>\n",
              "      <td>NO</td>\n",
              "    </tr>\n",
              "    <tr>\n",
              "      <th>4</th>\n",
              "      <td>TI</td>\n",
              "      <td>COLOMBIA</td>\n",
              "      <td>M</td>\n",
              "      <td>30/08/2003</td>\n",
              "      <td>20204</td>\n",
              "      <td>SB11202040048154</td>\n",
              "      <td>ESTUDIANTE</td>\n",
              "      <td>COLOMBIA</td>\n",
              "      <td>No</td>\n",
              "      <td>TOLIMA</td>\n",
              "      <td>...</td>\n",
              "      <td>29.0</td>\n",
              "      <td>1</td>\n",
              "      <td>A-</td>\n",
              "      <td>225</td>\n",
              "      <td>35</td>\n",
              "      <td>43.877158</td>\n",
              "      <td>2.0</td>\n",
              "      <td>2.0</td>\n",
              "      <td>PUBLICAR</td>\n",
              "      <td>GENERACION E - GRATUIDAD</td>\n",
              "    </tr>\n",
              "  </tbody>\n",
              "</table>\n",
              "<p>5 rows × 81 columns</p>\n",
              "</div>\n",
              "      <button class=\"colab-df-convert\" onclick=\"convertToInteractive('df-11bb0fc7-2774-414d-8aca-f2e0858ccb77')\"\n",
              "              title=\"Convert this dataframe to an interactive table.\"\n",
              "              style=\"display:none;\">\n",
              "        \n",
              "  <svg xmlns=\"http://www.w3.org/2000/svg\" height=\"24px\"viewBox=\"0 0 24 24\"\n",
              "       width=\"24px\">\n",
              "    <path d=\"M0 0h24v24H0V0z\" fill=\"none\"/>\n",
              "    <path d=\"M18.56 5.44l.94 2.06.94-2.06 2.06-.94-2.06-.94-.94-2.06-.94 2.06-2.06.94zm-11 1L8.5 8.5l.94-2.06 2.06-.94-2.06-.94L8.5 2.5l-.94 2.06-2.06.94zm10 10l.94 2.06.94-2.06 2.06-.94-2.06-.94-.94-2.06-.94 2.06-2.06.94z\"/><path d=\"M17.41 7.96l-1.37-1.37c-.4-.4-.92-.59-1.43-.59-.52 0-1.04.2-1.43.59L10.3 9.45l-7.72 7.72c-.78.78-.78 2.05 0 2.83L4 21.41c.39.39.9.59 1.41.59.51 0 1.02-.2 1.41-.59l7.78-7.78 2.81-2.81c.8-.78.8-2.07 0-2.86zM5.41 20L4 18.59l7.72-7.72 1.47 1.35L5.41 20z\"/>\n",
              "  </svg>\n",
              "      </button>\n",
              "      \n",
              "  <style>\n",
              "    .colab-df-container {\n",
              "      display:flex;\n",
              "      flex-wrap:wrap;\n",
              "      gap: 12px;\n",
              "    }\n",
              "\n",
              "    .colab-df-convert {\n",
              "      background-color: #E8F0FE;\n",
              "      border: none;\n",
              "      border-radius: 50%;\n",
              "      cursor: pointer;\n",
              "      display: none;\n",
              "      fill: #1967D2;\n",
              "      height: 32px;\n",
              "      padding: 0 0 0 0;\n",
              "      width: 32px;\n",
              "    }\n",
              "\n",
              "    .colab-df-convert:hover {\n",
              "      background-color: #E2EBFA;\n",
              "      box-shadow: 0px 1px 2px rgba(60, 64, 67, 0.3), 0px 1px 3px 1px rgba(60, 64, 67, 0.15);\n",
              "      fill: #174EA6;\n",
              "    }\n",
              "\n",
              "    [theme=dark] .colab-df-convert {\n",
              "      background-color: #3B4455;\n",
              "      fill: #D2E3FC;\n",
              "    }\n",
              "\n",
              "    [theme=dark] .colab-df-convert:hover {\n",
              "      background-color: #434B5C;\n",
              "      box-shadow: 0px 1px 3px 1px rgba(0, 0, 0, 0.15);\n",
              "      filter: drop-shadow(0px 1px 2px rgba(0, 0, 0, 0.3));\n",
              "      fill: #FFFFFF;\n",
              "    }\n",
              "  </style>\n",
              "\n",
              "      <script>\n",
              "        const buttonEl =\n",
              "          document.querySelector('#df-11bb0fc7-2774-414d-8aca-f2e0858ccb77 button.colab-df-convert');\n",
              "        buttonEl.style.display =\n",
              "          google.colab.kernel.accessAllowed ? 'block' : 'none';\n",
              "\n",
              "        async function convertToInteractive(key) {\n",
              "          const element = document.querySelector('#df-11bb0fc7-2774-414d-8aca-f2e0858ccb77');\n",
              "          const dataTable =\n",
              "            await google.colab.kernel.invokeFunction('convertToInteractive',\n",
              "                                                     [key], {});\n",
              "          if (!dataTable) return;\n",
              "\n",
              "          const docLinkHtml = 'Like what you see? Visit the ' +\n",
              "            '<a target=\"_blank\" href=https://colab.research.google.com/notebooks/data_table.ipynb>data table notebook</a>'\n",
              "            + ' to learn more about interactive tables.';\n",
              "          element.innerHTML = '';\n",
              "          dataTable['output_type'] = 'display_data';\n",
              "          await google.colab.output.renderOutput(dataTable, element);\n",
              "          const docLink = document.createElement('div');\n",
              "          docLink.innerHTML = docLinkHtml;\n",
              "          element.appendChild(docLink);\n",
              "        }\n",
              "      </script>\n",
              "    </div>\n",
              "  </div>\n",
              "  "
            ]
          },
          "metadata": {}
        },
        {
          "output_type": "display_data",
          "data": {
            "text/plain": [
              "  ESTU_TIPODOCUMENTO ESTU_NACIONALIDAD ESTU_GENERO ESTU_FECHANACIMIENTO  \\\n",
              "0                 TI          COLOMBIA           F           09/01/2004   \n",
              "1                 TI          COLOMBIA           M           06/04/2005   \n",
              "2                 TI          COLOMBIA           F           28/03/2004   \n",
              "3                 TI          COLOMBIA           F           28/04/2005   \n",
              "4                 TI          COLOMBIA           F           16/11/2004   \n",
              "\n",
              "   PERIODO  ESTU_CONSECUTIVO ESTU_ESTUDIANTE ESTU_PAIS_RESIDE ESTU_TIENEETNIA  \\\n",
              "0    20214  SB11202140617020      ESTUDIANTE         COLOMBIA              No   \n",
              "1    20214  SB11202140623058      ESTUDIANTE         COLOMBIA              No   \n",
              "2    20214  SB11202140623602      ESTUDIANTE         COLOMBIA              No   \n",
              "3    20214  SB11202140622167      ESTUDIANTE         COLOMBIA              No   \n",
              "4    20214  SB11202140633564      ESTUDIANTE         COLOMBIA              No   \n",
              "\n",
              "  ESTU_DEPTO_RESIDE  ...  PERCENTIL_INGLES DESEMP_INGLES  PUNT_GLOBAL  \\\n",
              "0            CALDAS  ...               6.0            A-          158   \n",
              "1            CALDAS  ...              30.0            A-          179   \n",
              "2            CALDAS  ...              29.0            A-          239   \n",
              "3         RISARALDA  ...              38.0            A-          232   \n",
              "4            CALDAS  ...              55.0            A1          270   \n",
              "\n",
              "  PERCENTIL_GLOBAL PERCENTIL_ESPECIAL_GLOBAL ESTU_INSE_INDIVIDUAL  \\\n",
              "0              2.0                       NaN            48.765076   \n",
              "1              8.0                       NaN            47.657176   \n",
              "2             47.0                       NaN            37.502857   \n",
              "3             42.0                       NaN            44.092403   \n",
              "4             69.0                       NaN            51.597759   \n",
              "\n",
              "  ESTU_NSE_INDIVIDUAL ESTU_NSE_ESTABLECIMIENTO ESTU_ESTADOINVESTIGACION  \\\n",
              "0                 2.0                      2.0                 PUBLICAR   \n",
              "1                 2.0                      2.0                 PUBLICAR   \n",
              "2                 1.0                      1.0                 PUBLICAR   \n",
              "3                 2.0                      1.0                 PUBLICAR   \n",
              "4                 3.0                      2.0                 PUBLICAR   \n",
              "\n",
              "          ESTU_GENERACION-E  \n",
              "0  GENERACION E - GRATUIDAD  \n",
              "1                        NO  \n",
              "2                        NO  \n",
              "3  GENERACION E - GRATUIDAD  \n",
              "4  GENERACION E - GRATUIDAD  \n",
              "\n",
              "[5 rows x 82 columns]"
            ],
            "text/html": [
              "\n",
              "  <div id=\"df-ee404264-51fa-41ac-96c0-bbe481ae8ee6\">\n",
              "    <div class=\"colab-df-container\">\n",
              "      <div>\n",
              "<style scoped>\n",
              "    .dataframe tbody tr th:only-of-type {\n",
              "        vertical-align: middle;\n",
              "    }\n",
              "\n",
              "    .dataframe tbody tr th {\n",
              "        vertical-align: top;\n",
              "    }\n",
              "\n",
              "    .dataframe thead th {\n",
              "        text-align: right;\n",
              "    }\n",
              "</style>\n",
              "<table border=\"1\" class=\"dataframe\">\n",
              "  <thead>\n",
              "    <tr style=\"text-align: right;\">\n",
              "      <th></th>\n",
              "      <th>ESTU_TIPODOCUMENTO</th>\n",
              "      <th>ESTU_NACIONALIDAD</th>\n",
              "      <th>ESTU_GENERO</th>\n",
              "      <th>ESTU_FECHANACIMIENTO</th>\n",
              "      <th>PERIODO</th>\n",
              "      <th>ESTU_CONSECUTIVO</th>\n",
              "      <th>ESTU_ESTUDIANTE</th>\n",
              "      <th>ESTU_PAIS_RESIDE</th>\n",
              "      <th>ESTU_TIENEETNIA</th>\n",
              "      <th>ESTU_DEPTO_RESIDE</th>\n",
              "      <th>...</th>\n",
              "      <th>PERCENTIL_INGLES</th>\n",
              "      <th>DESEMP_INGLES</th>\n",
              "      <th>PUNT_GLOBAL</th>\n",
              "      <th>PERCENTIL_GLOBAL</th>\n",
              "      <th>PERCENTIL_ESPECIAL_GLOBAL</th>\n",
              "      <th>ESTU_INSE_INDIVIDUAL</th>\n",
              "      <th>ESTU_NSE_INDIVIDUAL</th>\n",
              "      <th>ESTU_NSE_ESTABLECIMIENTO</th>\n",
              "      <th>ESTU_ESTADOINVESTIGACION</th>\n",
              "      <th>ESTU_GENERACION-E</th>\n",
              "    </tr>\n",
              "  </thead>\n",
              "  <tbody>\n",
              "    <tr>\n",
              "      <th>0</th>\n",
              "      <td>TI</td>\n",
              "      <td>COLOMBIA</td>\n",
              "      <td>F</td>\n",
              "      <td>09/01/2004</td>\n",
              "      <td>20214</td>\n",
              "      <td>SB11202140617020</td>\n",
              "      <td>ESTUDIANTE</td>\n",
              "      <td>COLOMBIA</td>\n",
              "      <td>No</td>\n",
              "      <td>CALDAS</td>\n",
              "      <td>...</td>\n",
              "      <td>6.0</td>\n",
              "      <td>A-</td>\n",
              "      <td>158</td>\n",
              "      <td>2.0</td>\n",
              "      <td>NaN</td>\n",
              "      <td>48.765076</td>\n",
              "      <td>2.0</td>\n",
              "      <td>2.0</td>\n",
              "      <td>PUBLICAR</td>\n",
              "      <td>GENERACION E - GRATUIDAD</td>\n",
              "    </tr>\n",
              "    <tr>\n",
              "      <th>1</th>\n",
              "      <td>TI</td>\n",
              "      <td>COLOMBIA</td>\n",
              "      <td>M</td>\n",
              "      <td>06/04/2005</td>\n",
              "      <td>20214</td>\n",
              "      <td>SB11202140623058</td>\n",
              "      <td>ESTUDIANTE</td>\n",
              "      <td>COLOMBIA</td>\n",
              "      <td>No</td>\n",
              "      <td>CALDAS</td>\n",
              "      <td>...</td>\n",
              "      <td>30.0</td>\n",
              "      <td>A-</td>\n",
              "      <td>179</td>\n",
              "      <td>8.0</td>\n",
              "      <td>NaN</td>\n",
              "      <td>47.657176</td>\n",
              "      <td>2.0</td>\n",
              "      <td>2.0</td>\n",
              "      <td>PUBLICAR</td>\n",
              "      <td>NO</td>\n",
              "    </tr>\n",
              "    <tr>\n",
              "      <th>2</th>\n",
              "      <td>TI</td>\n",
              "      <td>COLOMBIA</td>\n",
              "      <td>F</td>\n",
              "      <td>28/03/2004</td>\n",
              "      <td>20214</td>\n",
              "      <td>SB11202140623602</td>\n",
              "      <td>ESTUDIANTE</td>\n",
              "      <td>COLOMBIA</td>\n",
              "      <td>No</td>\n",
              "      <td>CALDAS</td>\n",
              "      <td>...</td>\n",
              "      <td>29.0</td>\n",
              "      <td>A-</td>\n",
              "      <td>239</td>\n",
              "      <td>47.0</td>\n",
              "      <td>NaN</td>\n",
              "      <td>37.502857</td>\n",
              "      <td>1.0</td>\n",
              "      <td>1.0</td>\n",
              "      <td>PUBLICAR</td>\n",
              "      <td>NO</td>\n",
              "    </tr>\n",
              "    <tr>\n",
              "      <th>3</th>\n",
              "      <td>TI</td>\n",
              "      <td>COLOMBIA</td>\n",
              "      <td>F</td>\n",
              "      <td>28/04/2005</td>\n",
              "      <td>20214</td>\n",
              "      <td>SB11202140622167</td>\n",
              "      <td>ESTUDIANTE</td>\n",
              "      <td>COLOMBIA</td>\n",
              "      <td>No</td>\n",
              "      <td>RISARALDA</td>\n",
              "      <td>...</td>\n",
              "      <td>38.0</td>\n",
              "      <td>A-</td>\n",
              "      <td>232</td>\n",
              "      <td>42.0</td>\n",
              "      <td>NaN</td>\n",
              "      <td>44.092403</td>\n",
              "      <td>2.0</td>\n",
              "      <td>1.0</td>\n",
              "      <td>PUBLICAR</td>\n",
              "      <td>GENERACION E - GRATUIDAD</td>\n",
              "    </tr>\n",
              "    <tr>\n",
              "      <th>4</th>\n",
              "      <td>TI</td>\n",
              "      <td>COLOMBIA</td>\n",
              "      <td>F</td>\n",
              "      <td>16/11/2004</td>\n",
              "      <td>20214</td>\n",
              "      <td>SB11202140633564</td>\n",
              "      <td>ESTUDIANTE</td>\n",
              "      <td>COLOMBIA</td>\n",
              "      <td>No</td>\n",
              "      <td>CALDAS</td>\n",
              "      <td>...</td>\n",
              "      <td>55.0</td>\n",
              "      <td>A1</td>\n",
              "      <td>270</td>\n",
              "      <td>69.0</td>\n",
              "      <td>NaN</td>\n",
              "      <td>51.597759</td>\n",
              "      <td>3.0</td>\n",
              "      <td>2.0</td>\n",
              "      <td>PUBLICAR</td>\n",
              "      <td>GENERACION E - GRATUIDAD</td>\n",
              "    </tr>\n",
              "  </tbody>\n",
              "</table>\n",
              "<p>5 rows × 82 columns</p>\n",
              "</div>\n",
              "      <button class=\"colab-df-convert\" onclick=\"convertToInteractive('df-ee404264-51fa-41ac-96c0-bbe481ae8ee6')\"\n",
              "              title=\"Convert this dataframe to an interactive table.\"\n",
              "              style=\"display:none;\">\n",
              "        \n",
              "  <svg xmlns=\"http://www.w3.org/2000/svg\" height=\"24px\"viewBox=\"0 0 24 24\"\n",
              "       width=\"24px\">\n",
              "    <path d=\"M0 0h24v24H0V0z\" fill=\"none\"/>\n",
              "    <path d=\"M18.56 5.44l.94 2.06.94-2.06 2.06-.94-2.06-.94-.94-2.06-.94 2.06-2.06.94zm-11 1L8.5 8.5l.94-2.06 2.06-.94-2.06-.94L8.5 2.5l-.94 2.06-2.06.94zm10 10l.94 2.06.94-2.06 2.06-.94-2.06-.94-.94-2.06-.94 2.06-2.06.94z\"/><path d=\"M17.41 7.96l-1.37-1.37c-.4-.4-.92-.59-1.43-.59-.52 0-1.04.2-1.43.59L10.3 9.45l-7.72 7.72c-.78.78-.78 2.05 0 2.83L4 21.41c.39.39.9.59 1.41.59.51 0 1.02-.2 1.41-.59l7.78-7.78 2.81-2.81c.8-.78.8-2.07 0-2.86zM5.41 20L4 18.59l7.72-7.72 1.47 1.35L5.41 20z\"/>\n",
              "  </svg>\n",
              "      </button>\n",
              "      \n",
              "  <style>\n",
              "    .colab-df-container {\n",
              "      display:flex;\n",
              "      flex-wrap:wrap;\n",
              "      gap: 12px;\n",
              "    }\n",
              "\n",
              "    .colab-df-convert {\n",
              "      background-color: #E8F0FE;\n",
              "      border: none;\n",
              "      border-radius: 50%;\n",
              "      cursor: pointer;\n",
              "      display: none;\n",
              "      fill: #1967D2;\n",
              "      height: 32px;\n",
              "      padding: 0 0 0 0;\n",
              "      width: 32px;\n",
              "    }\n",
              "\n",
              "    .colab-df-convert:hover {\n",
              "      background-color: #E2EBFA;\n",
              "      box-shadow: 0px 1px 2px rgba(60, 64, 67, 0.3), 0px 1px 3px 1px rgba(60, 64, 67, 0.15);\n",
              "      fill: #174EA6;\n",
              "    }\n",
              "\n",
              "    [theme=dark] .colab-df-convert {\n",
              "      background-color: #3B4455;\n",
              "      fill: #D2E3FC;\n",
              "    }\n",
              "\n",
              "    [theme=dark] .colab-df-convert:hover {\n",
              "      background-color: #434B5C;\n",
              "      box-shadow: 0px 1px 3px 1px rgba(0, 0, 0, 0.15);\n",
              "      filter: drop-shadow(0px 1px 2px rgba(0, 0, 0, 0.3));\n",
              "      fill: #FFFFFF;\n",
              "    }\n",
              "  </style>\n",
              "\n",
              "      <script>\n",
              "        const buttonEl =\n",
              "          document.querySelector('#df-ee404264-51fa-41ac-96c0-bbe481ae8ee6 button.colab-df-convert');\n",
              "        buttonEl.style.display =\n",
              "          google.colab.kernel.accessAllowed ? 'block' : 'none';\n",
              "\n",
              "        async function convertToInteractive(key) {\n",
              "          const element = document.querySelector('#df-ee404264-51fa-41ac-96c0-bbe481ae8ee6');\n",
              "          const dataTable =\n",
              "            await google.colab.kernel.invokeFunction('convertToInteractive',\n",
              "                                                     [key], {});\n",
              "          if (!dataTable) return;\n",
              "\n",
              "          const docLinkHtml = 'Like what you see? Visit the ' +\n",
              "            '<a target=\"_blank\" href=https://colab.research.google.com/notebooks/data_table.ipynb>data table notebook</a>'\n",
              "            + ' to learn more about interactive tables.';\n",
              "          element.innerHTML = '';\n",
              "          dataTable['output_type'] = 'display_data';\n",
              "          await google.colab.output.renderOutput(dataTable, element);\n",
              "          const docLink = document.createElement('div');\n",
              "          docLink.innerHTML = docLinkHtml;\n",
              "          element.appendChild(docLink);\n",
              "        }\n",
              "      </script>\n",
              "    </div>\n",
              "  </div>\n",
              "  "
            ]
          },
          "metadata": {}
        }
      ],
      "source": [
        "# Se verifican los datos cargados\n",
        "display(sb11_20202.head())\n",
        "display(sb11_20212.head())"
      ]
    },
    {
      "cell_type": "code",
      "execution_count": 18,
      "metadata": {
        "colab": {
          "base_uri": "https://localhost:8080/"
        },
        "id": "AjOMVhdjlN7T",
        "outputId": "1c4aaabc-d7c7-4f19-8f10-e47d88f15073"
      },
      "outputs": [
        {
          "output_type": "stream",
          "name": "stdout",
          "text": [
            "(504872, 81)\n",
            "(532979, 82)\n"
          ]
        }
      ],
      "source": [
        "# Se realizan análisis iniciales para explorar cantidad de observaciones en cada periodo estudiado\n",
        "print(sb11_20202.shape)\n",
        "print(sb11_20212.shape)"
      ]
    },
    {
      "cell_type": "code",
      "execution_count": 19,
      "metadata": {
        "colab": {
          "base_uri": "https://localhost:8080/"
        },
        "id": "aifkQ89RDHNp",
        "outputId": "525ccb50-2899-4230-e0f5-9b2ef56d3d88"
      },
      "outputs": [
        {
          "output_type": "stream",
          "name": "stdout",
          "text": [
            "<class 'pandas.core.frame.DataFrame'>\n",
            "RangeIndex: 504872 entries, 0 to 504871\n",
            "Data columns (total 81 columns):\n",
            " #   Column                         Non-Null Count   Dtype  \n",
            "---  ------                         --------------   -----  \n",
            " 0   ESTU_TIPODOCUMENTO             504872 non-null  object \n",
            " 1   ESTU_NACIONALIDAD              504872 non-null  object \n",
            " 2   ESTU_GENERO                    504864 non-null  object \n",
            " 3   ESTU_FECHANACIMIENTO           504872 non-null  object \n",
            " 4   PERIODO                        504872 non-null  int64  \n",
            " 5   ESTU_CONSECUTIVO               504872 non-null  object \n",
            " 6   ESTU_ESTUDIANTE                504872 non-null  object \n",
            " 7   ESTU_PAIS_RESIDE               504872 non-null  object \n",
            " 8   ESTU_TIENEETNIA                501879 non-null  object \n",
            " 9   ESTU_DEPTO_RESIDE              504870 non-null  object \n",
            " 10  ESTU_COD_RESIDE_DEPTO          504870 non-null  float64\n",
            " 11  ESTU_MCPIO_RESIDE              504870 non-null  object \n",
            " 12  ESTU_COD_RESIDE_MCPIO          504870 non-null  float64\n",
            " 13  FAMI_ESTRATOVIVIENDA           487920 non-null  object \n",
            " 14  FAMI_PERSONASHOGAR             489699 non-null  object \n",
            " 15  FAMI_CUARTOSHOGAR              489033 non-null  object \n",
            " 16  FAMI_EDUCACIONPADRE            491882 non-null  object \n",
            " 17  FAMI_EDUCACIONMADRE            491386 non-null  object \n",
            " 18  FAMI_TRABAJOLABORPADRE         485181 non-null  object \n",
            " 19  FAMI_TRABAJOLABORMADRE         487273 non-null  object \n",
            " 20  FAMI_TIENEINTERNET             491207 non-null  object \n",
            " 21  FAMI_TIENESERVICIOTV           489433 non-null  object \n",
            " 22  FAMI_TIENECOMPUTADOR           484678 non-null  object \n",
            " 23  FAMI_TIENELAVADORA             488640 non-null  object \n",
            " 24  FAMI_TIENEHORNOMICROOGAS       487730 non-null  object \n",
            " 25  FAMI_TIENEAUTOMOVIL            487063 non-null  object \n",
            " 26  FAMI_TIENEMOTOCICLETA          487786 non-null  object \n",
            " 27  FAMI_TIENECONSOLAVIDEOJUEGOS   487394 non-null  object \n",
            " 28  FAMI_NUMLIBROS                 491029 non-null  object \n",
            " 29  FAMI_COMELECHEDERIVADOS        491244 non-null  object \n",
            " 30  FAMI_COMECARNEPESCADOHUEVO     489566 non-null  object \n",
            " 31  FAMI_COMECEREALFRUTOSLEGUMBRE  484609 non-null  object \n",
            " 32  FAMI_SITUACIONECONOMICA        488558 non-null  object \n",
            " 33  ESTU_DEDICACIONLECTURADIARIA   490391 non-null  object \n",
            " 34  ESTU_DEDICACIONINTERNET        490246 non-null  object \n",
            " 35  ESTU_HORASSEMANATRABAJA        487888 non-null  object \n",
            " 36  ESTU_TIPOREMUNERACION          487226 non-null  object \n",
            " 37  COLE_CODIGO_ICFES              504872 non-null  int64  \n",
            " 38  COLE_COD_DANE_ESTABLECIMIENTO  504872 non-null  int64  \n",
            " 39  COLE_NOMBRE_ESTABLECIMIENTO    504872 non-null  object \n",
            " 40  COLE_GENERO                    504872 non-null  object \n",
            " 41  COLE_NATURALEZA                504872 non-null  object \n",
            " 42  COLE_CALENDARIO                504872 non-null  object \n",
            " 43  COLE_BILINGUE                  421865 non-null  object \n",
            " 44  COLE_CARACTER                  490695 non-null  object \n",
            " 45  COLE_COD_DANE_SEDE             504872 non-null  int64  \n",
            " 46  COLE_NOMBRE_SEDE               504872 non-null  object \n",
            " 47  COLE_SEDE_PRINCIPAL            504872 non-null  object \n",
            " 48  COLE_AREA_UBICACION            504872 non-null  object \n",
            " 49  COLE_JORNADA                   504872 non-null  object \n",
            " 50  COLE_COD_MCPIO_UBICACION       504872 non-null  int64  \n",
            " 51  COLE_MCPIO_UBICACION           504872 non-null  object \n",
            " 52  COLE_COD_DEPTO_UBICACION       504872 non-null  int64  \n",
            " 53  COLE_DEPTO_UBICACION           504872 non-null  object \n",
            " 54  ESTU_PRIVADO_LIBERTAD          504872 non-null  object \n",
            " 55  ESTU_COD_MCPIO_PRESENTACION    504664 non-null  float64\n",
            " 56  ESTU_MCPIO_PRESENTACION        504664 non-null  object \n",
            " 57  ESTU_DEPTO_PRESENTACION        504664 non-null  object \n",
            " 58  ESTU_COD_DEPTO_PRESENTACION    504664 non-null  float64\n",
            " 59  PUNT_LECTURA_CRITICA           504872 non-null  int64  \n",
            " 60  PERCENTIL_LECTURA_CRITICA      504872 non-null  int64  \n",
            " 61  DESEMP_LECTURA_CRITICA         504872 non-null  int64  \n",
            " 62  PUNT_MATEMATICAS               504872 non-null  int64  \n",
            " 63  PERCENTIL_MATEMATICAS          504872 non-null  int64  \n",
            " 64  DESEMP_MATEMATICAS             504872 non-null  int64  \n",
            " 65  PUNT_C_NATURALES               504872 non-null  int64  \n",
            " 66  PERCENTIL_C_NATURALES          504872 non-null  int64  \n",
            " 67  DESEMP_C_NATURALES             504872 non-null  int64  \n",
            " 68  PUNT_SOCIALES_CIUDADANAS       504872 non-null  int64  \n",
            " 69  PERCENTIL_SOCIALES_CIUDADANAS  504872 non-null  int64  \n",
            " 70  DESEMP_SOCIALES_CIUDADANAS     504872 non-null  int64  \n",
            " 71  PUNT_INGLES                    504538 non-null  float64\n",
            " 72  PERCENTIL_INGLES               504872 non-null  int64  \n",
            " 73  DESEMP_INGLES                  504872 non-null  object \n",
            " 74  PUNT_GLOBAL                    504872 non-null  int64  \n",
            " 75  PERCENTIL_GLOBAL               504872 non-null  int64  \n",
            " 76  ESTU_INSE_INDIVIDUAL           490927 non-null  float64\n",
            " 77  ESTU_NSE_INDIVIDUAL            490927 non-null  float64\n",
            " 78  ESTU_NSE_ESTABLECIMIENTO       504823 non-null  float64\n",
            " 79  ESTU_ESTADOINVESTIGACION       504872 non-null  object \n",
            " 80  ESTU_GENERACION-E              504872 non-null  object \n",
            "dtypes: float64(8), int64(21), object(52)\n",
            "memory usage: 312.0+ MB\n",
            "<class 'pandas.core.frame.DataFrame'>\n",
            "RangeIndex: 532979 entries, 0 to 532978\n",
            "Data columns (total 82 columns):\n",
            " #   Column                         Non-Null Count   Dtype  \n",
            "---  ------                         --------------   -----  \n",
            " 0   ESTU_TIPODOCUMENTO             532979 non-null  object \n",
            " 1   ESTU_NACIONALIDAD              532979 non-null  object \n",
            " 2   ESTU_GENERO                    532887 non-null  object \n",
            " 3   ESTU_FECHANACIMIENTO           532979 non-null  object \n",
            " 4   PERIODO                        532979 non-null  int64  \n",
            " 5   ESTU_CONSECUTIVO               532979 non-null  object \n",
            " 6   ESTU_ESTUDIANTE                532979 non-null  object \n",
            " 7   ESTU_PAIS_RESIDE               532979 non-null  object \n",
            " 8   ESTU_TIENEETNIA                532223 non-null  object \n",
            " 9   ESTU_DEPTO_RESIDE              532902 non-null  object \n",
            " 10  ESTU_COD_RESIDE_DEPTO          532902 non-null  float64\n",
            " 11  ESTU_MCPIO_RESIDE              532902 non-null  object \n",
            " 12  ESTU_COD_RESIDE_MCPIO          532902 non-null  float64\n",
            " 13  FAMI_ESTRATOVIVIENDA           503180 non-null  object \n",
            " 14  FAMI_PERSONASHOGAR             517753 non-null  object \n",
            " 15  FAMI_CUARTOSHOGAR              516831 non-null  object \n",
            " 16  FAMI_EDUCACIONPADRE            506909 non-null  object \n",
            " 17  FAMI_EDUCACIONMADRE            506915 non-null  object \n",
            " 18  FAMI_TRABAJOLABORPADRE         516227 non-null  object \n",
            " 19  FAMI_TRABAJOLABORMADRE         516867 non-null  object \n",
            " 20  FAMI_TIENEINTERNET             506367 non-null  object \n",
            " 21  FAMI_TIENESERVICIOTV           505430 non-null  object \n",
            " 22  FAMI_TIENECOMPUTADOR           517028 non-null  object \n",
            " 23  FAMI_TIENELAVADORA             516840 non-null  object \n",
            " 24  FAMI_TIENEHORNOMICROOGAS       516169 non-null  object \n",
            " 25  FAMI_TIENEAUTOMOVIL            515764 non-null  object \n",
            " 26  FAMI_TIENEMOTOCICLETA          516859 non-null  object \n",
            " 27  FAMI_TIENECONSOLAVIDEOJUEGOS   515757 non-null  object \n",
            " 28  FAMI_NUMLIBROS                 489759 non-null  object \n",
            " 29  FAMI_COMELECHEDERIVADOS        500607 non-null  object \n",
            " 30  FAMI_COMECARNEPESCADOHUEVO     505588 non-null  object \n",
            " 31  FAMI_COMECEREALFRUTOSLEGUMBRE  504553 non-null  object \n",
            " 32  FAMI_SITUACIONECONOMICA        515852 non-null  object \n",
            " 33  ESTU_DEDICACIONLECTURADIARIA   505945 non-null  object \n",
            " 34  ESTU_DEDICACIONINTERNET        504793 non-null  object \n",
            " 35  ESTU_HORASSEMANATRABAJA        517050 non-null  object \n",
            " 36  ESTU_TIPOREMUNERACION          516148 non-null  object \n",
            " 37  COLE_CODIGO_ICFES              532979 non-null  int64  \n",
            " 38  COLE_COD_DANE_ESTABLECIMIENTO  532979 non-null  int64  \n",
            " 39  COLE_NOMBRE_ESTABLECIMIENTO    532979 non-null  object \n",
            " 40  COLE_GENERO                    532979 non-null  object \n",
            " 41  COLE_NATURALEZA                532979 non-null  object \n",
            " 42  COLE_CALENDARIO                532979 non-null  object \n",
            " 43  COLE_BILINGUE                  441496 non-null  object \n",
            " 44  COLE_CARACTER                  515186 non-null  object \n",
            " 45  COLE_COD_DANE_SEDE             532979 non-null  int64  \n",
            " 46  COLE_NOMBRE_SEDE               532979 non-null  object \n",
            " 47  COLE_SEDE_PRINCIPAL            532979 non-null  object \n",
            " 48  COLE_AREA_UBICACION            532979 non-null  object \n",
            " 49  COLE_JORNADA                   532979 non-null  object \n",
            " 50  COLE_COD_MCPIO_UBICACION       532979 non-null  int64  \n",
            " 51  COLE_MCPIO_UBICACION           532979 non-null  object \n",
            " 52  COLE_COD_DEPTO_UBICACION       532979 non-null  int64  \n",
            " 53  COLE_DEPTO_UBICACION           532979 non-null  object \n",
            " 54  ESTU_PRIVADO_LIBERTAD          532979 non-null  object \n",
            " 55  ESTU_COD_MCPIO_PRESENTACION    532979 non-null  int64  \n",
            " 56  ESTU_MCPIO_PRESENTACION        532979 non-null  object \n",
            " 57  ESTU_DEPTO_PRESENTACION        532979 non-null  object \n",
            " 58  ESTU_COD_DEPTO_PRESENTACION    532979 non-null  int64  \n",
            " 59  PUNT_LECTURA_CRITICA           532979 non-null  int64  \n",
            " 60  PERCENTIL_LECTURA_CRITICA      532979 non-null  int64  \n",
            " 61  DESEMP_LECTURA_CRITICA         532979 non-null  int64  \n",
            " 62  PUNT_MATEMATICAS               532979 non-null  int64  \n",
            " 63  PERCENTIL_MATEMATICAS          532979 non-null  int64  \n",
            " 64  DESEMP_MATEMATICAS             532979 non-null  int64  \n",
            " 65  PUNT_C_NATURALES               532979 non-null  int64  \n",
            " 66  PERCENTIL_C_NATURALES          532979 non-null  int64  \n",
            " 67  DESEMP_C_NATURALES             532979 non-null  int64  \n",
            " 68  PUNT_SOCIALES_CIUDADANAS       532979 non-null  int64  \n",
            " 69  PERCENTIL_SOCIALES_CIUDADANAS  532979 non-null  int64  \n",
            " 70  DESEMP_SOCIALES_CIUDADANAS     532979 non-null  int64  \n",
            " 71  PUNT_INGLES                    529094 non-null  float64\n",
            " 72  PERCENTIL_INGLES               529094 non-null  float64\n",
            " 73  DESEMP_INGLES                  529094 non-null  object \n",
            " 74  PUNT_GLOBAL                    532979 non-null  int64  \n",
            " 75  PERCENTIL_GLOBAL               529094 non-null  float64\n",
            " 76  PERCENTIL_ESPECIAL_GLOBAL      15437 non-null   float64\n",
            " 77  ESTU_INSE_INDIVIDUAL           517816 non-null  float64\n",
            " 78  ESTU_NSE_INDIVIDUAL            517816 non-null  float64\n",
            " 79  ESTU_NSE_ESTABLECIMIENTO       532912 non-null  float64\n",
            " 80  ESTU_ESTADOINVESTIGACION       532979 non-null  object \n",
            " 81  ESTU_GENERACION-E              532979 non-null  object \n",
            "dtypes: float64(9), int64(21), object(52)\n",
            "memory usage: 333.4+ MB\n"
          ]
        }
      ],
      "source": [
        "# se verifican las columnas de cada df y los tipos de variables con que se cargó cada columna\n",
        "sb11_20202.info()\n",
        "sb11_20212.info()"
      ]
    },
    {
      "cell_type": "markdown",
      "metadata": {
        "id": "slBWtH0IxHoU"
      },
      "source": [
        "Se observa que el dataset 2021-2 tiene un campo (variable) adicional llamado PERCENTIL_ESPECIAL_GLOBAL, A continuación se realiza una descripción de este campo y del campo PERCENTIL_GLOBAL para ambos periodos 2020-2 y 2021-2, teniendo en cuenta que esta variable no será usada en el resutaldo final, se concluye que no afecta el presente análisis."
      ]
    },
    {
      "cell_type": "code",
      "execution_count": 20,
      "metadata": {
        "colab": {
          "base_uri": "https://localhost:8080/"
        },
        "id": "hurzL8Y0xTdU",
        "outputId": "216393cf-d80a-463e-9b0d-7a0cbaea0e6c"
      },
      "outputs": [
        {
          "output_type": "stream",
          "name": "stdout",
          "text": [
            "count    15437.000000\n",
            "mean        50.283928\n",
            "std         28.882637\n",
            "min          1.000000\n",
            "25%         25.000000\n",
            "50%         50.000000\n",
            "75%         75.000000\n",
            "max        100.000000\n",
            "Name: PERCENTIL_ESPECIAL_GLOBAL, dtype: float64\n",
            "count    529094.000000\n",
            "mean         50.020410\n",
            "std          28.935729\n",
            "min           1.000000\n",
            "25%          25.000000\n",
            "50%          50.000000\n",
            "75%          75.000000\n",
            "max         100.000000\n",
            "Name: PERCENTIL_GLOBAL, dtype: float64\n",
            "count    504872.000000\n",
            "mean         50.097839\n",
            "std          28.903895\n",
            "min           1.000000\n",
            "25%          25.000000\n",
            "50%          50.000000\n",
            "75%          75.000000\n",
            "max         100.000000\n",
            "Name: PERCENTIL_GLOBAL, dtype: float64\n"
          ]
        }
      ],
      "source": [
        "print(sb11_20212['PERCENTIL_ESPECIAL_GLOBAL'].describe())\n",
        "print(sb11_20212['PERCENTIL_GLOBAL'].describe())\n",
        "print(sb11_20202['PERCENTIL_GLOBAL'].describe())"
      ]
    },
    {
      "cell_type": "markdown",
      "source": [
        "Con el objetivo de consolidar variables y reducir el tamaño de los dos dataset se crea un indice tecnológico a partir de las variables 'FAMI_TIENEINTERNET', 'FAMI_TIENESERVICIOTV', 'FAMI_TIENECOMPUTADOR'"
      ],
      "metadata": {
        "id": "Ng75yv0h9t52"
      }
    },
    {
      "cell_type": "code",
      "execution_count": 21,
      "metadata": {
        "colab": {
          "base_uri": "https://localhost:8080/"
        },
        "id": "Q6Qr13h0C0g1",
        "outputId": "819c18f8-faa1-46c7-e4d0-7b466cfad5c3"
      },
      "outputs": [
        {
          "output_type": "stream",
          "name": "stdout",
          "text": [
            "0\n",
            "[1. 2. 0.]\n",
            "float64\n",
            "0\n",
            "[2. 1. 0.]\n",
            "float64\n"
          ]
        }
      ],
      "source": [
        "mapping ={'Si': 1, 'No': 2} # se crea diccionario para mapear las variables con la función map\n",
        "sb11_20202['INTERNET_INDEX'] = sb11_20202.FAMI_TIENEINTERNET.map(mapping)\n",
        "sb11_20212['INTERNET_INDEX'] = sb11_20212.FAMI_TIENEINTERNET.map(mapping)\n",
        "sb11_20202['INTERNET_INDEX'].fillna(0, inplace=True) #se reemplazan los valores nulos por 0\n",
        "sb11_20212['INTERNET_INDEX'].fillna(0, inplace=True)\n",
        "\n",
        "print(sb11_20202['INTERNET_INDEX'].isnull().sum()) \n",
        "print(sb11_20202['INTERNET_INDEX'].unique())\n",
        "print(sb11_20202['INTERNET_INDEX'].dtype)\n",
        "print(sb11_20212['INTERNET_INDEX'].isnull().sum())\n",
        "print(sb11_20212['INTERNET_INDEX'].unique())\n",
        "print(sb11_20212['INTERNET_INDEX'].dtype)"
      ]
    },
    {
      "cell_type": "code",
      "source": [
        "## 'FAMI_TIENECOMPUTADOR'\n",
        "sb11_20202['SERVICIOTV_INDEX'] = sb11_20202.FAMI_TIENESERVICIOTV.map(mapping)\n",
        "sb11_20212['SERVICIOTV_INDEX'] = sb11_20212.FAMI_TIENESERVICIOTV.map(mapping)\n",
        "sb11_20202['SERVICIOTV_INDEX'].fillna(0, inplace=True)\n",
        "sb11_20212['SERVICIOTV_INDEX'].fillna(0, inplace=True)\n",
        "\n",
        "print(sb11_20202['SERVICIOTV_INDEX'].isnull().sum())\n",
        "print(sb11_20202['SERVICIOTV_INDEX'].unique())\n",
        "print(sb11_20202['SERVICIOTV_INDEX'].dtype)\n",
        "print(sb11_20212['SERVICIOTV_INDEX'].isnull().sum())\n",
        "print(sb11_20212['SERVICIOTV_INDEX'].unique())\n",
        "print(sb11_20212['SERVICIOTV_INDEX'].dtype)"
      ],
      "metadata": {
        "colab": {
          "base_uri": "https://localhost:8080/"
        },
        "id": "xdtPqh-Pzwt_",
        "outputId": "64db1de3-cf74-4ec7-9bd2-7672b61c7ae6"
      },
      "execution_count": 22,
      "outputs": [
        {
          "output_type": "stream",
          "name": "stdout",
          "text": [
            "0\n",
            "[1. 2. 0.]\n",
            "float64\n",
            "0\n",
            "[2. 1. 0.]\n",
            "float64\n"
          ]
        }
      ]
    },
    {
      "cell_type": "code",
      "source": [
        "sb11_20202['PC_INDEX'] = sb11_20202.FAMI_TIENECOMPUTADOR.map(mapping)\n",
        "sb11_20212['PC_INDEX'] = sb11_20212.FAMI_TIENECOMPUTADOR.map(mapping)\n",
        "sb11_20202['PC_INDEX'].fillna(0, inplace=True)\n",
        "sb11_20212['PC_INDEX'].fillna(0, inplace=True)\n",
        "\n",
        "print(sb11_20202['PC_INDEX'].isnull().sum())\n",
        "print(sb11_20202['PC_INDEX'].unique())\n",
        "print(sb11_20202['PC_INDEX'].dtype)\n",
        "print(sb11_20212['PC_INDEX'].isnull().sum())\n",
        "print(sb11_20212['PC_INDEX'].unique())\n",
        "print(sb11_20212['PC_INDEX'].dtype)"
      ],
      "metadata": {
        "colab": {
          "base_uri": "https://localhost:8080/"
        },
        "id": "LxEktT-B0SBW",
        "outputId": "afe4c6ff-91d1-4f8c-9874-024bd8ea25ae"
      },
      "execution_count": 23,
      "outputs": [
        {
          "output_type": "stream",
          "name": "stdout",
          "text": [
            "0\n",
            "[1. 2. 0.]\n",
            "float64\n",
            "0\n",
            "[1. 2. 0.]\n",
            "float64\n"
          ]
        }
      ]
    },
    {
      "cell_type": "code",
      "source": [
        "sb11_20202['TECH_INDEX'] = sb11_20202['INTERNET_INDEX'] + sb11_20202['PC_INDEX'] + sb11_20202['SERVICIOTV_INDEX']\n",
        "sb11_20212['TECH_INDEX'] = sb11_20212['INTERNET_INDEX'] + sb11_20212['PC_INDEX'] + sb11_20212['SERVICIOTV_INDEX']\n",
        "print(sb11_20202.TECH_INDEX.head())\n",
        "print(sb11_20202.TECH_INDEX.unique())\n",
        "\n",
        "print(sb11_20212.TECH_INDEX.head())\n",
        "print(sb11_20212.TECH_INDEX.unique())"
      ],
      "metadata": {
        "colab": {
          "base_uri": "https://localhost:8080/"
        },
        "id": "-3p5rwRZ0fKL",
        "outputId": "947cd3a2-773f-4acb-9edf-3a7b51d03d1b"
      },
      "execution_count": 24,
      "outputs": [
        {
          "output_type": "stream",
          "name": "stdout",
          "text": [
            "0    3.0\n",
            "1    3.0\n",
            "2    4.0\n",
            "3    3.0\n",
            "4    4.0\n",
            "Name: TECH_INDEX, dtype: float64\n",
            "[3. 4. 5. 6. 0. 2. 1.]\n",
            "0    5.0\n",
            "1    5.0\n",
            "2    6.0\n",
            "3    6.0\n",
            "4    3.0\n",
            "Name: TECH_INDEX, dtype: float64\n",
            "[5. 6. 3. 4. 2. 0. 1.]\n"
          ]
        }
      ]
    },
    {
      "cell_type": "code",
      "source": [
        "mapping2 = {0:'low', 1: 'low', 2:'low', 3:'medium', 4:'medium', 5:'high', 6:'high'}\n",
        "sb11_20202['TECH_INDEX'] = sb11_20202['TECH_INDEX'].map(mapping2)\n",
        "sb11_20212['TECH_INDEX'] = sb11_20212['TECH_INDEX'].map(mapping2)\n",
        "print(sb11_20202.TECH_INDEX.unique())\n",
        "print(sb11_20212.TECH_INDEX.unique())\n",
        "cats= ['low', 'medium', 'high']\n",
        "sb11_20202['TECH_INDEX'] = pd.Categorical(sb11_20202['TECH_INDEX'], categories=cats, ordered=True)\n",
        "sb11_20212['TECH_INDEX'] = pd.Categorical(sb11_20212['TECH_INDEX'], categories=cats, ordered=True)\n",
        "print(sb11_20202['TECH_INDEX'].dtypes)\n",
        "print(sb11_20212['TECH_INDEX'].dtypes)"
      ],
      "metadata": {
        "colab": {
          "base_uri": "https://localhost:8080/"
        },
        "id": "2UFn-YrO2J0y",
        "outputId": "d777c062-75ae-4866-b8f3-8ee501eb6861"
      },
      "execution_count": 25,
      "outputs": [
        {
          "output_type": "stream",
          "name": "stdout",
          "text": [
            "['medium' 'high' 'low']\n",
            "['high' 'medium' 'low']\n",
            "category\n",
            "category\n"
          ]
        }
      ]
    },
    {
      "cell_type": "code",
      "source": [
        "print(sb11_20212.TECH_INDEX.head())\n",
        "print(sb11_20202.TECH_INDEX.head())"
      ],
      "metadata": {
        "colab": {
          "base_uri": "https://localhost:8080/"
        },
        "id": "8HgLAdtC77HR",
        "outputId": "8601a0b2-b931-4ac4-ac3a-a5375d73cc65"
      },
      "execution_count": 26,
      "outputs": [
        {
          "output_type": "stream",
          "name": "stdout",
          "text": [
            "0      high\n",
            "1      high\n",
            "2      high\n",
            "3      high\n",
            "4    medium\n",
            "Name: TECH_INDEX, dtype: category\n",
            "Categories (3, object): ['low' < 'medium' < 'high']\n",
            "0    medium\n",
            "1    medium\n",
            "2    medium\n",
            "3    medium\n",
            "4    medium\n",
            "Name: TECH_INDEX, dtype: category\n",
            "Categories (3, object): ['low' < 'medium' < 'high']\n"
          ]
        }
      ]
    },
    {
      "cell_type": "markdown",
      "metadata": {
        "id": "bRaO6fQZLm5D"
      },
      "source": [
        "A continuación se filtran los dataset con las variables de interés y se verifican los valores perdidos por cada variable.\n",
        "\n"
      ]
    },
    {
      "cell_type": "code",
      "execution_count": 27,
      "metadata": {
        "id": "TtdsTDuFAbwi"
      },
      "outputs": [],
      "source": [
        "col_dataset = ['ESTU_TIPODOCUMENTO', 'ESTU_NACIONALIDAD', 'ESTU_GENERO','ESTU_FECHANACIMIENTO', 'ESTU_ESTUDIANTE',\n",
        "'ESTU_PAIS_RESIDE', 'ESTU_TIENEETNIA', 'ESTU_DEPTO_RESIDE', 'ESTU_MCPIO_RESIDE','FAMI_ESTRATOVIVIENDA', 'FAMI_PERSONASHOGAR', \n",
        "'FAMI_EDUCACIONPADRE', 'FAMI_EDUCACIONMADRE', 'FAMI_TRABAJOLABORPADRE' , 'FAMI_TRABAJOLABORMADRE',\n",
        "'TECH_INDEX','ESTU_HORASSEMANATRABAJA', 'ESTU_TIPOREMUNERACION', 'COLE_NATURALEZA', \n",
        "'COLE_CALENDARIO', 'COLE_CARACTER', 'COLE_AREA_UBICACION', 'COLE_JORNADA', 'COLE_MCPIO_UBICACION', 'COLE_DEPTO_UBICACION', 'COLE_COD_DEPTO_UBICACION','PUNT_MATEMATICAS', \n",
        "'PERCENTIL_MATEMATICAS', 'DESEMP_MATEMATICAS', 'ESTU_NSE_INDIVIDUAL']\n"
      ]
    },
    {
      "cell_type": "code",
      "execution_count": 28,
      "metadata": {
        "id": "WtbjJjwMLWKS"
      },
      "outputs": [],
      "source": [
        "math_20202 = sb11_20202[col_dataset]\n",
        "math_20212 = sb11_20212[col_dataset]"
      ]
    },
    {
      "cell_type": "code",
      "execution_count": 29,
      "metadata": {
        "colab": {
          "base_uri": "https://localhost:8080/"
        },
        "id": "XCc68IRvrQiz",
        "outputId": "5f38438d-a1f2-4836-ee39-dada7da550ad"
      },
      "outputs": [
        {
          "output_type": "stream",
          "name": "stdout",
          "text": [
            "ESTU_TIPODOCUMENTO              0\n",
            "ESTU_NACIONALIDAD               0\n",
            "ESTU_GENERO                     8\n",
            "ESTU_FECHANACIMIENTO            0\n",
            "ESTU_ESTUDIANTE                 0\n",
            "ESTU_PAIS_RESIDE                0\n",
            "ESTU_TIENEETNIA              2993\n",
            "ESTU_DEPTO_RESIDE               2\n",
            "ESTU_MCPIO_RESIDE               2\n",
            "FAMI_ESTRATOVIVIENDA        16952\n",
            "FAMI_PERSONASHOGAR          15173\n",
            "FAMI_EDUCACIONPADRE         12990\n",
            "FAMI_EDUCACIONMADRE         13486\n",
            "FAMI_TRABAJOLABORPADRE      19691\n",
            "FAMI_TRABAJOLABORMADRE      17599\n",
            "TECH_INDEX                      0\n",
            "ESTU_HORASSEMANATRABAJA     16984\n",
            "ESTU_TIPOREMUNERACION       17646\n",
            "COLE_NATURALEZA                 0\n",
            "COLE_CALENDARIO                 0\n",
            "COLE_CARACTER               14177\n",
            "COLE_AREA_UBICACION             0\n",
            "COLE_JORNADA                    0\n",
            "COLE_MCPIO_UBICACION            0\n",
            "COLE_DEPTO_UBICACION            0\n",
            "COLE_COD_DEPTO_UBICACION        0\n",
            "PUNT_MATEMATICAS                0\n",
            "PERCENTIL_MATEMATICAS           0\n",
            "DESEMP_MATEMATICAS              0\n",
            "ESTU_NSE_INDIVIDUAL         13945\n",
            "dtype: int64\n"
          ]
        },
        {
          "output_type": "execute_result",
          "data": {
            "text/plain": [
              "(504872, 30)"
            ]
          },
          "metadata": {},
          "execution_count": 29
        }
      ],
      "source": [
        "print(math_20202.isna().sum())\n",
        "math_20202.shape"
      ]
    },
    {
      "cell_type": "code",
      "execution_count": 30,
      "metadata": {
        "colab": {
          "base_uri": "https://localhost:8080/"
        },
        "id": "vKrg2Q3aSwWv",
        "outputId": "deba6295-df8b-48b1-8eb3-40343121f9ef"
      },
      "outputs": [
        {
          "output_type": "stream",
          "name": "stdout",
          "text": [
            "ESTU_TIPODOCUMENTO              0\n",
            "ESTU_NACIONALIDAD               0\n",
            "ESTU_GENERO                    92\n",
            "ESTU_FECHANACIMIENTO            0\n",
            "ESTU_ESTUDIANTE                 0\n",
            "ESTU_PAIS_RESIDE                0\n",
            "ESTU_TIENEETNIA               756\n",
            "ESTU_DEPTO_RESIDE              77\n",
            "ESTU_MCPIO_RESIDE              77\n",
            "FAMI_ESTRATOVIVIENDA        29799\n",
            "FAMI_PERSONASHOGAR          15226\n",
            "FAMI_EDUCACIONPADRE         26070\n",
            "FAMI_EDUCACIONMADRE         26064\n",
            "FAMI_TRABAJOLABORPADRE      16752\n",
            "FAMI_TRABAJOLABORMADRE      16112\n",
            "TECH_INDEX                      0\n",
            "ESTU_HORASSEMANATRABAJA     15929\n",
            "ESTU_TIPOREMUNERACION       16831\n",
            "COLE_NATURALEZA                 0\n",
            "COLE_CALENDARIO                 0\n",
            "COLE_CARACTER               17793\n",
            "COLE_AREA_UBICACION             0\n",
            "COLE_JORNADA                    0\n",
            "COLE_MCPIO_UBICACION            0\n",
            "COLE_DEPTO_UBICACION            0\n",
            "COLE_COD_DEPTO_UBICACION        0\n",
            "PUNT_MATEMATICAS                0\n",
            "PERCENTIL_MATEMATICAS           0\n",
            "DESEMP_MATEMATICAS              0\n",
            "ESTU_NSE_INDIVIDUAL         15163\n",
            "dtype: int64\n"
          ]
        },
        {
          "output_type": "execute_result",
          "data": {
            "text/plain": [
              "(532979, 30)"
            ]
          },
          "metadata": {},
          "execution_count": 30
        }
      ],
      "source": [
        "print(math_20212.isna().sum())\n",
        "math_20212.shape"
      ]
    },
    {
      "cell_type": "markdown",
      "metadata": {
        "id": "c-MW0wZD6pWa"
      },
      "source": [
        "Se realiza una descripción de la variable \"X\" a estudiar en cada dataset : *PUNTUACIÓN MATEMATICAS*"
      ]
    },
    {
      "cell_type": "code",
      "execution_count": 31,
      "metadata": {
        "colab": {
          "base_uri": "https://localhost:8080/"
        },
        "id": "BGL8piqOl1Kq",
        "outputId": "996d29bc-6830-4808-94f0-01662cc84442"
      },
      "outputs": [
        {
          "output_type": "stream",
          "name": "stdout",
          "text": [
            "count    504872.000000\n",
            "mean         51.019754\n",
            "std          11.647657\n",
            "min           0.000000\n",
            "25%          43.000000\n",
            "50%          51.000000\n",
            "75%          59.000000\n",
            "max         100.000000\n",
            "Name: PUNT_MATEMATICAS, dtype: float64\n",
            "count    532979.000000\n",
            "mean         49.666874\n",
            "std          11.605103\n",
            "min           0.000000\n",
            "25%          42.000000\n",
            "50%          50.000000\n",
            "75%          57.000000\n",
            "max         100.000000\n",
            "Name: PUNT_MATEMATICAS, dtype: float64\n"
          ]
        }
      ],
      "source": [
        "print(math_20202['PUNT_MATEMATICAS'].describe())\n",
        "\n",
        "print(math_20212['PUNT_MATEMATICAS'].describe())"
      ]
    },
    {
      "cell_type": "markdown",
      "metadata": {
        "id": "4MyEVLI09ygR"
      },
      "source": [
        "En resumen se observa que la media de la puntuación en matemáticas se comporta así:"
      ]
    },
    {
      "cell_type": "code",
      "execution_count": 32,
      "metadata": {
        "colab": {
          "base_uri": "https://localhost:8080/"
        },
        "id": "wjS0s8EymIrS",
        "outputId": "89a273c3-8fa3-4b8e-d19d-cfd43aaf5354"
      },
      "outputs": [
        {
          "output_type": "stream",
          "name": "stdout",
          "text": [
            "El promedio de la puntuación en matemáticas para el período 2020-2 fue de 51.019753521684706\n",
            "El promedio de la puntuación en matemáticas para el período 2020-2 fue de 49.66687430461613\n"
          ]
        }
      ],
      "source": [
        "print(\"El promedio de la puntuación en matemáticas para el período 2020-2 fue de\",   math_20202['PUNT_MATEMATICAS'].mean())\n",
        "print(\"El promedio de la puntuación en matemáticas para el período 2020-2 fue de\",   math_20212['PUNT_MATEMATICAS'].mean())"
      ]
    },
    {
      "cell_type": "markdown",
      "metadata": {
        "id": "geKxTWD-AHZy"
      },
      "source": [
        "Ahora, se incluye la variable género, en primer lugar se describe la cantidad de hombres y mujeres por cada período y luego se resumen de forma gráfica\n",
        "\n"
      ]
    },
    {
      "cell_type": "code",
      "execution_count": 33,
      "metadata": {
        "id": "QF2_dddLm1-c"
      },
      "outputs": [],
      "source": [
        "feq_m_f_20202 = math_20202['ESTU_GENERO'].value_counts()\n",
        "feq_m_f_20212 = math_20212['ESTU_GENERO'].value_counts()"
      ]
    },
    {
      "cell_type": "code",
      "execution_count": 34,
      "metadata": {
        "colab": {
          "base_uri": "https://localhost:8080/",
          "height": 317
        },
        "id": "VH-HneHbnEam",
        "outputId": "50e8fb92-0f97-40e3-848a-99c70f88d6bf"
      },
      "outputs": [
        {
          "output_type": "display_data",
          "data": {
            "text/plain": [
              "<Figure size 432x288 with 1 Axes>"
            ],
            "image/png": "[encoded data removed]"
          },
          "metadata": {
            "needs_background": "light"
          }
        },
        {
          "output_type": "stream",
          "name": "stdout",
          "text": [
            "F    276572\n",
            "M    228292\n",
            "Name: ESTU_GENERO, dtype: int64\n"
          ]
        }
      ],
      "source": [
        "feq_m_f_20202.plot(kind='barh')\n",
        "plt.show()\n",
        "print(feq_m_f_20202)"
      ]
    },
    {
      "cell_type": "code",
      "execution_count": 35,
      "metadata": {
        "colab": {
          "base_uri": "https://localhost:8080/",
          "height": 317
        },
        "id": "-gnOuv-fnV9W",
        "outputId": "362f4cd7-1878-4c31-9634-d358ef1f105a"
      },
      "outputs": [
        {
          "output_type": "display_data",
          "data": {
            "text/plain": [
              "<Figure size 432x288 with 1 Axes>"
            ],
            "image/png": "[encoded data removed]"
          },
          "metadata": {
            "needs_background": "light"
          }
        },
        {
          "output_type": "stream",
          "name": "stdout",
          "text": [
            "F    291037\n",
            "M    241850\n",
            "Name: ESTU_GENERO, dtype: int64\n"
          ]
        }
      ],
      "source": [
        "feq_m_f_20212.plot(kind='barh')\n",
        "plt.show()\n",
        "print(feq_m_f_20212)"
      ]
    },
    {
      "cell_type": "code",
      "execution_count": 36,
      "metadata": {
        "colab": {
          "base_uri": "https://localhost:8080/",
          "height": 280
        },
        "id": "xSkN9wWM_zLW",
        "outputId": "45d86454-54bb-439c-841d-ddb39ce9e31b"
      },
      "outputs": [
        {
          "output_type": "display_data",
          "data": {
            "text/plain": [
              "<Figure size 432x288 with 1 Axes>"
            ],
            "image/png": "[encoded data removed]"
          },
          "metadata": {
            "needs_background": "light"
          }
        }
      ],
      "source": [
        "sns.boxplot(x=math_20202['ESTU_GENERO'], y=math_20202['PUNT_MATEMATICAS'], data=math_20202)\n",
        "plt.show()"
      ]
    },
    {
      "cell_type": "code",
      "execution_count": 37,
      "metadata": {
        "colab": {
          "base_uri": "https://localhost:8080/",
          "height": 280
        },
        "id": "qAWtginOToU1",
        "outputId": "4cce94f9-2656-464f-d9a2-bff3affe967b"
      },
      "outputs": [
        {
          "output_type": "display_data",
          "data": {
            "text/plain": [
              "<Figure size 432x288 with 1 Axes>"
            ],
            "image/png": "[encoded data removed]"
          },
          "metadata": {
            "needs_background": "light"
          }
        }
      ],
      "source": [
        "sns.boxplot(x=math_20212['ESTU_GENERO'], y=math_20212['PUNT_MATEMATICAS'], data=math_20212)\n",
        "plt.show()"
      ]
    },
    {
      "cell_type": "code",
      "execution_count": 38,
      "metadata": {
        "colab": {
          "base_uri": "https://localhost:8080/",
          "height": 282
        },
        "id": "VA_RDIM-Ux3M",
        "outputId": "22dc71d8-7ccd-4572-c25a-2fa18518fefe"
      },
      "outputs": [
        {
          "output_type": "execute_result",
          "data": {
            "text/plain": [
              "<function matplotlib.pyplot.show>"
            ]
          },
          "metadata": {},
          "execution_count": 38
        },
        {
          "output_type": "display_data",
          "data": {
            "text/plain": [
              "<Figure size 432x288 with 1 Axes>"
            ],
            "image/png": "[encoded data removed]"
          },
          "metadata": {
            "needs_background": "light"
          }
        }
      ],
      "source": [
        "math_20202[math_20202['ESTU_GENERO']=='F']['PUNT_MATEMATICAS'].hist(alpha=0.4, color='m')\n",
        "math_20202[math_20202['ESTU_GENERO']=='M']['PUNT_MATEMATICAS'].hist(alpha=0.2, color='b')\n",
        "plt.legend(['F', 'M'])\n",
        "plt.show"
      ]
    },
    {
      "cell_type": "code",
      "execution_count": 39,
      "metadata": {
        "colab": {
          "base_uri": "https://localhost:8080/",
          "height": 282
        },
        "id": "2zfN1s2eVa1e",
        "outputId": "dd503882-85dc-48db-8658-454e8cb00011"
      },
      "outputs": [
        {
          "output_type": "execute_result",
          "data": {
            "text/plain": [
              "<function matplotlib.pyplot.show>"
            ]
          },
          "metadata": {},
          "execution_count": 39
        },
        {
          "output_type": "display_data",
          "data": {
            "text/plain": [
              "<Figure size 432x288 with 1 Axes>"
            ],
            "image/png": "[encoded data removed]"
          },
          "metadata": {
            "needs_background": "light"
          }
        }
      ],
      "source": [
        "math_20212[math_20212['ESTU_GENERO']=='F']['PUNT_MATEMATICAS'].hist(alpha=0.4, color='r')\n",
        "math_20212[math_20212['ESTU_GENERO']=='M']['PUNT_MATEMATICAS'].hist(alpha=0.2, color='b')\n",
        "plt.legend(['F', 'M'])\n",
        "plt.show"
      ]
    },
    {
      "cell_type": "markdown",
      "metadata": {
        "id": "RQ771w3kUZBX"
      },
      "source": [
        "\n",
        "\n",
        "---\n",
        "\n"
      ]
    },
    {
      "cell_type": "code",
      "execution_count": 40,
      "metadata": {
        "colab": {
          "base_uri": "https://localhost:8080/",
          "height": 279
        },
        "id": "qkEGWKfxxZEx",
        "outputId": "47bcabb8-4665-4e20-d863-e80f5f56bcf2"
      },
      "outputs": [
        {
          "output_type": "display_data",
          "data": {
            "text/plain": [
              "<Figure size 432x288 with 1 Axes>"
            ],
            "image/png": "[encoded data removed]"
          },
          "metadata": {
            "needs_background": "light"
          }
        }
      ],
      "source": [
        "math_mean_20202 = math_20202.groupby(['ESTU_GENERO'])['PUNT_MATEMATICAS'].mean()\n",
        "math_mean_20202.plot(kind='bar')\n",
        "plt.show()"
      ]
    },
    {
      "cell_type": "code",
      "execution_count": 41,
      "metadata": {
        "colab": {
          "base_uri": "https://localhost:8080/",
          "height": 279
        },
        "id": "voLOyy0WE-9D",
        "outputId": "1b0de58e-671f-4b1a-d802-8ad0743e85fa"
      },
      "outputs": [
        {
          "output_type": "display_data",
          "data": {
            "text/plain": [
              "<Figure size 432x288 with 1 Axes>"
            ],
            "image/png": "[encoded data removed]"
          },
          "metadata": {
            "needs_background": "light"
          }
        }
      ],
      "source": [
        "math_mean_20212 = math_20212.groupby(['ESTU_GENERO'])['PUNT_MATEMATICAS'].mean()\n",
        "math_mean_20212.plot(kind='bar')\n",
        "plt.show()"
      ]
    },
    {
      "cell_type": "markdown",
      "metadata": {
        "id": "KZWr4CxaTypD"
      },
      "source": [
        "# Análisis con varias variables\n",
        "*Ahora se combinan las variables de Género, Departamento y Puntuación Matemáticas para analizar si la media de la puntuación en matemáticas prevalece a través de los departamentos en Colombia.*"
      ]
    },
    {
      "cell_type": "code",
      "execution_count": 42,
      "metadata": {
        "id": "agLDw-HLsNxW"
      },
      "outputs": [],
      "source": [
        "filter_by_female_20202 = math_20202[math_20202['ESTU_GENERO']=='F'] # para filtrar del dataset solo mas mujeres\n",
        "filter_by_male_20202 = math_20202[math_20202['ESTU_GENERO']=='M'] # para filtrar del dataset solo los hombres\n",
        "mean_depto_by_female_20202=filter_by_female_20202.groupby('ESTU_DEPTO_RESIDE')['PUNT_MATEMATICAS'].mean()\n",
        "mean_depto_by_male_20202=filter_by_male_20202.groupby('ESTU_DEPTO_RESIDE')['PUNT_MATEMATICAS'].mean()\n",
        "\n",
        "## print(mean_depto_by_female_20202.sort_values(ascending=False))\n",
        "## print(mean_depto_by_male_20202.sort_values(ascending=False))"
      ]
    },
    {
      "cell_type": "markdown",
      "metadata": {
        "id": "GqZa1gfse3sP"
      },
      "source": [
        "# Calculo de medias\n",
        "\n",
        "*Diferencia de medias de género por departamento*\n",
        "\n",
        "\n"
      ]
    },
    {
      "cell_type": "code",
      "execution_count": 43,
      "metadata": {
        "id": "vC1oYg2XVuyU"
      },
      "outputs": [],
      "source": [
        "gap_math_20202 = mean_depto_by_male_20202 - mean_depto_by_female_20202\n",
        "## print(gap_math_20202)"
      ]
    },
    {
      "cell_type": "code",
      "execution_count": 44,
      "metadata": {
        "colab": {
          "base_uri": "https://localhost:8080/",
          "height": 368
        },
        "id": "_UuVXxjFWMad",
        "outputId": "d10e3486-89bd-4a24-bed8-5af8e17fcf40"
      },
      "outputs": [
        {
          "output_type": "display_data",
          "data": {
            "text/plain": [
              "<Figure size 432x288 with 1 Axes>"
            ],
            "image/png": "[encoded data removed]"
          },
          "metadata": {
            "needs_background": "light"
          }
        }
      ],
      "source": [
        "gap_math_20202.sort_values().plot.bar()\n",
        "plt.show()"
      ]
    },
    {
      "cell_type": "code",
      "execution_count": 45,
      "metadata": {
        "colab": {
          "base_uri": "https://localhost:8080/"
        },
        "id": "N8iHATbnK3wT",
        "outputId": "6079ad56-4540-422e-a19f-425ed283ce02"
      },
      "outputs": [
        {
          "output_type": "stream",
          "name": "stdout",
          "text": [
            "La brecha máxima en matemáticas para el periodo 2020-2 es 4.6555555555555586\n",
            "La brecha mínima en matemáticas para el periodo 2020-2 es -1.9461126276412841\n",
            "La desviación estándar de la brecha el periodo 2020-2 es 1.242851708653397\n",
            "La varianza de la brecha en matemáticas para el periodo 2020-2 es 1.5446803697026683\n"
          ]
        }
      ],
      "source": [
        "print(\"La brecha máxima en matemáticas para el periodo 2020-2 es\", gap_math_20202.max())\n",
        "print(\"La brecha mínima en matemáticas para el periodo 2020-2 es\", gap_math_20202.min())\n",
        "print(\"La desviación estándar de la brecha el periodo 2020-2 es\", gap_math_20202.std())\n",
        "print(\"La varianza de la brecha en matemáticas para el periodo 2020-2 es\", gap_math_20202.var())"
      ]
    },
    {
      "cell_type": "code",
      "execution_count": 46,
      "metadata": {
        "id": "kP_8J7ZJW2Kk"
      },
      "outputs": [],
      "source": [
        "filter_by_female_20212 = math_20212[math_20212['ESTU_GENERO']=='F']\n",
        "filter_by_male_20212 = math_20212[math_20212['ESTU_GENERO']=='M']\n",
        "mean_depto_by_female_20212=filter_by_female_20212.groupby('ESTU_DEPTO_RESIDE')['PUNT_MATEMATICAS'].mean()\n",
        "mean_depto_by_male_20212=filter_by_male_20212.groupby('ESTU_DEPTO_RESIDE')['PUNT_MATEMATICAS'].mean()\n",
        "\n",
        "# print(mean_depto_by_female_20212.sort_values(ascending=False))\n",
        "# print(mean_depto_by_male_20212.sort_values(ascending=False))"
      ]
    },
    {
      "cell_type": "code",
      "execution_count": 47,
      "metadata": {
        "id": "spDqOV0lXLMG"
      },
      "outputs": [],
      "source": [
        "gap_math_20212 = mean_depto_by_male_20212 - mean_depto_by_female_20212\n",
        "# print(gap_math_20212)"
      ]
    },
    {
      "cell_type": "code",
      "execution_count": 48,
      "metadata": {
        "colab": {
          "base_uri": "https://localhost:8080/",
          "height": 368
        },
        "id": "Avstp-UqXVFU",
        "outputId": "3b65dd12-12a6-4610-9264-e91a3c68e17e"
      },
      "outputs": [
        {
          "output_type": "display_data",
          "data": {
            "text/plain": [
              "<Figure size 432x288 with 1 Axes>"
            ],
            "image/png": "[encoded data removed]"
          },
          "metadata": {
            "needs_background": "light"
          }
        }
      ],
      "source": [
        "gap_math_20212.sort_values().plot.bar()\n",
        "plt.show()"
      ]
    },
    {
      "cell_type": "code",
      "execution_count": 49,
      "metadata": {
        "colab": {
          "base_uri": "https://localhost:8080/"
        },
        "id": "n7g2Co7hMauF",
        "outputId": "5ab0e300-501e-42b0-9c6e-3421d6324f8a"
      },
      "outputs": [
        {
          "output_type": "stream",
          "name": "stdout",
          "text": [
            "La brecha máxima en matemáticas para el periodo 2021-2 es 7.901785714285715\n",
            "La brecha mínima en matemáticas para el periodo 2021-2 es -1.0356121326418375\n",
            "La desviación estándar de la brecha el periodo 2021-2 es 1.5923338828288578\n",
            "La varianza de la brecha en matemáticas para el periodo 2021-2 es 2.5355271944048265\n"
          ]
        }
      ],
      "source": [
        "print(\"La brecha máxima en matemáticas para el periodo 2021-2 es\", gap_math_20212.max())\n",
        "print(\"La brecha mínima en matemáticas para el periodo 2021-2 es\", gap_math_20212.min())\n",
        "print(\"La desviación estándar de la brecha el periodo 2021-2 es\", gap_math_20212.std())\n",
        "print(\"La varianza de la brecha en matemáticas para el periodo 2021-2 es\", gap_math_20212.var())"
      ]
    },
    {
      "cell_type": "code",
      "execution_count": 50,
      "metadata": {
        "colab": {
          "base_uri": "https://localhost:8080/"
        },
        "id": "byUa1Qs00OBK",
        "outputId": "83b1ac57-d434-4b8a-9dcf-96c171d73789"
      },
      "outputs": [
        {
          "output_type": "execute_result",
          "data": {
            "text/plain": [
              "ESTU_GENERO  ESTU_NSE_INDIVIDUAL\n",
              "F            1.0                    44.376535\n",
              "             2.0                    47.375653\n",
              "             3.0                    52.406533\n",
              "             4.0                    60.113853\n",
              "M            1.0                    46.675247\n",
              "             2.0                    49.984384\n",
              "             3.0                    54.885126\n",
              "             4.0                    61.837512\n",
              "Name: PUNT_MATEMATICAS, dtype: float64"
            ]
          },
          "metadata": {},
          "execution_count": 50
        }
      ],
      "source": [
        "math_20202.groupby(['ESTU_GENERO','ESTU_NSE_INDIVIDUAL'])['PUNT_MATEMATICAS'].mean()"
      ]
    },
    {
      "cell_type": "code",
      "execution_count": 51,
      "metadata": {
        "colab": {
          "base_uri": "https://localhost:8080/"
        },
        "id": "fh2j5B040s-H",
        "outputId": "ebddbe07-42bb-4f0f-b62f-e505e61cb2cf"
      },
      "outputs": [
        {
          "output_type": "execute_result",
          "data": {
            "text/plain": [
              "ESTU_GENERO  ESTU_NSE_INDIVIDUAL\n",
              "F            1.0                    43.486564\n",
              "             2.0                    46.237507\n",
              "             3.0                    51.244396\n",
              "             4.0                    59.422746\n",
              "M            1.0                    45.469038\n",
              "             2.0                    48.437141\n",
              "             3.0                    53.304335\n",
              "             4.0                    61.026233\n",
              "Name: PUNT_MATEMATICAS, dtype: float64"
            ]
          },
          "metadata": {},
          "execution_count": 51
        }
      ],
      "source": [
        "math_20212.groupby(['ESTU_GENERO','ESTU_NSE_INDIVIDUAL'])['PUNT_MATEMATICAS'].mean()"
      ]
    },
    {
      "cell_type": "markdown",
      "source": [
        "# Construcción mapas"
      ],
      "metadata": {
        "id": "JbyYsWPWpz-3"
      }
    },
    {
      "cell_type": "markdown",
      "source": [
        "Los archivos de datos son descargados del portal del dane\n",
        "[Marco Geoestadistico Nacional (MGN)](https://geoportal.dane.gov.co/servicios/descarga-y-metadatos/descarga-mgn-marco-geoestadistico-nacional/)"
      ],
      "metadata": {
        "id": "9BxrYg-Rq0Ex"
      }
    },
    {
      "cell_type": "code",
      "source": [
        "!pip install geopandas\n",
        "import geopandas as gpd"
      ],
      "metadata": {
        "colab": {
          "base_uri": "https://localhost:8080/"
        },
        "id": "q8M7-qkLqKIE",
        "outputId": "c7b99a1c-c21d-43a1-8b9f-599d6f9efb5c"
      },
      "execution_count": 52,
      "outputs": [
        {
          "output_type": "stream",
          "name": "stdout",
          "text": [
            "Requirement already satisfied: geopandas in /usr/local/lib/python3.7/dist-packages (0.10.2)\n",
            "Requirement already satisfied: fiona>=1.8 in /usr/local/lib/python3.7/dist-packages (from geopandas) (1.8.21)\n",
            "Requirement already satisfied: pandas>=0.25.0 in /usr/local/lib/python3.7/dist-packages (from geopandas) (1.3.5)\n",
            "Requirement already satisfied: pyproj>=2.2.0 in /usr/local/lib/python3.7/dist-packages (from geopandas) (3.2.1)\n",
            "Requirement already satisfied: shapely>=1.6 in /usr/local/lib/python3.7/dist-packages (from geopandas) (1.8.1.post1)\n",
            "Requirement already satisfied: certifi in /usr/local/lib/python3.7/dist-packages (from fiona>=1.8->geopandas) (2021.10.8)\n",
            "Requirement already satisfied: setuptools in /usr/local/lib/python3.7/dist-packages (from fiona>=1.8->geopandas) (57.4.0)\n",
            "Requirement already satisfied: munch in /usr/local/lib/python3.7/dist-packages (from fiona>=1.8->geopandas) (2.5.0)\n",
            "Requirement already satisfied: click-plugins>=1.0 in /usr/local/lib/python3.7/dist-packages (from fiona>=1.8->geopandas) (1.1.1)\n",
            "Requirement already satisfied: six>=1.7 in /usr/local/lib/python3.7/dist-packages (from fiona>=1.8->geopandas) (1.15.0)\n",
            "Requirement already satisfied: attrs>=17 in /usr/local/lib/python3.7/dist-packages (from fiona>=1.8->geopandas) (21.4.0)\n",
            "Requirement already satisfied: click>=4.0 in /usr/local/lib/python3.7/dist-packages (from fiona>=1.8->geopandas) (7.1.2)\n",
            "Requirement already satisfied: cligj>=0.5 in /usr/local/lib/python3.7/dist-packages (from fiona>=1.8->geopandas) (0.7.2)\n",
            "Requirement already satisfied: numpy>=1.17.3 in /usr/local/lib/python3.7/dist-packages (from pandas>=0.25.0->geopandas) (1.21.5)\n",
            "Requirement already satisfied: python-dateutil>=2.7.3 in /usr/local/lib/python3.7/dist-packages (from pandas>=0.25.0->geopandas) (2.8.2)\n",
            "Requirement already satisfied: pytz>=2017.3 in /usr/local/lib/python3.7/dist-packages (from pandas>=0.25.0->geopandas) (2018.9)\n"
          ]
        }
      ]
    },
    {
      "cell_type": "code",
      "source": [
        "file = '/content/drive/MyDrive/wom-en stem project/MGN2020_DPTO_POLITICO/MGN_DPTO_POLITICO.shp'\n",
        "map = gpd.read_file(file)\n",
        "map.columns\n"
      ],
      "metadata": {
        "colab": {
          "base_uri": "https://localhost:8080/"
        },
        "id": "tChnWWH5rWY2",
        "outputId": "997d366a-6ceb-4b64-a6d1-dab6a5f2dc64"
      },
      "execution_count": 53,
      "outputs": [
        {
          "output_type": "execute_result",
          "data": {
            "text/plain": [
              "Index(['DPTO_CCDGO', 'DPTO_CNMBR', 'DPTO_NANO_', 'DPTO_CACTO', 'DPTO_NANO',\n",
              "       'SHAPE_AREA', 'SHAPE_LEN', 'geometry'],\n",
              "      dtype='object')"
            ]
          },
          "metadata": {},
          "execution_count": 53
        }
      ]
    },
    {
      "cell_type": "code",
      "source": [
        "map['DPTO_CCDGO'] = map['DPTO_CCDGO'].astype('int')"
      ],
      "metadata": {
        "colab": {
          "base_uri": "https://localhost:8080/"
        },
        "id": "bkrSTWrayGLP",
        "outputId": "bdff1068-561a-47d5-d7a7-5ff5021f9f63"
      },
      "execution_count": 92,
      "outputs": [
        {
          "output_type": "stream",
          "name": "stdout",
          "text": [
            "<class 'geopandas.geodataframe.GeoDataFrame'>\n",
            "RangeIndex: 33 entries, 0 to 32\n",
            "Data columns (total 8 columns):\n",
            " #   Column      Non-Null Count  Dtype   \n",
            "---  ------      --------------  -----   \n",
            " 0   DPTO_CCDGO  33 non-null     object  \n",
            " 1   DPTO_CNMBR  33 non-null     object  \n",
            " 2   DPTO_NANO_  33 non-null     int64   \n",
            " 3   DPTO_CACTO  33 non-null     object  \n",
            " 4   DPTO_NANO   33 non-null     int64   \n",
            " 5   SHAPE_AREA  33 non-null     float64 \n",
            " 6   SHAPE_LEN   33 non-null     float64 \n",
            " 7   geometry    33 non-null     geometry\n",
            "dtypes: float64(2), geometry(1), int64(2), object(3)\n",
            "memory usage: 2.2+ KB\n"
          ]
        }
      ]
    },
    {
      "cell_type": "code",
      "source": [
        "map = map[['DPTO_CCDGO','DPTO_CNMBR', 'SHAPE_AREA', 'SHAPE_LEN', 'geometry']]"
      ],
      "metadata": {
        "id": "qzi-m4fc5sfG"
      },
      "execution_count": 103,
      "outputs": []
    },
    {
      "cell_type": "code",
      "source": [
        "groupby_depto_2020 = math_20202.groupby(['COLE_COD_DEPTO_UBICACION'])[['PUNT_MATEMATICAS']].mean()\n",
        "math_20202['mean_depto_math'] = math_20202.groupby(['COLE_COD_DEPTO_UBICACION'])[['PUNT_MATEMATICAS']].transform('mean')\n",
        "math_mean_20202 = math_20202[['COLE_COD_DEPTO_UBICACION', 'ESTU_GENERO', 'mean_depto_math']]\n",
        "math_mean_20202 = math_mean_20202.drop_duplicates(subset=['COLE_COD_DEPTO_UBICACION'])\n",
        "merge_map_math_mean_2020 = pd.merge(math_mean_20202, map , how='left', left_on='COLE_COD_DEPTO_UBICACION', right_on='DPTO_CCDGO')\n",
        "merge_map_math_mean_2020.head()\n"
      ],
      "metadata": {
        "colab": {
          "base_uri": "https://localhost:8080/",
          "height": 310
        },
        "id": "srTskWWQrfgE",
        "outputId": "045f1d6d-b73f-47a1-db35-7f641c9a1dfc"
      },
      "execution_count": 106,
      "outputs": [
        {
          "output_type": "stream",
          "name": "stderr",
          "text": [
            "/usr/local/lib/python3.7/dist-packages/ipykernel_launcher.py:2: SettingWithCopyWarning: \n",
            "A value is trying to be set on a copy of a slice from a DataFrame.\n",
            "Try using .loc[row_indexer,col_indexer] = value instead\n",
            "\n",
            "See the caveats in the documentation: https://pandas.pydata.org/pandas-docs/stable/user_guide/indexing.html#returning-a-view-versus-a-copy\n",
            "  \n"
          ]
        },
        {
          "output_type": "execute_result",
          "data": {
            "text/plain": [
              "   COLE_COD_DEPTO_UBICACION ESTU_GENERO  mean_depto_math  DPTO_CCDGO  \\\n",
              "0                        17           M        51.013277          17   \n",
              "1                        11           F        54.910477          11   \n",
              "2                        73           M        49.570133          73   \n",
              "3                        20           F        49.316756          20   \n",
              "4                         5           F        49.638535           5   \n",
              "\n",
              "     DPTO_CNMBR  SHAPE_AREA  SHAPE_LEN  \\\n",
              "0        CALDAS    0.605498   6.655844   \n",
              "1  BOGOTÁ, D.C.    0.132208   3.760453   \n",
              "2        TOLIMA    1.965027   9.549726   \n",
              "3         CESAR    1.857960  12.611247   \n",
              "4     ANTIOQUIA    5.134915  21.443760   \n",
              "\n",
              "                                            geometry  \n",
              "0  POLYGON ((-74.67154 5.77147, -74.67054 5.76896...  \n",
              "1  POLYGON ((-74.07419 4.83655, -74.07401 4.83647...  \n",
              "2  POLYGON ((-74.82173 5.31671, -74.82156 5.31653...  \n",
              "3  POLYGON ((-73.45374 10.86767, -73.45358 10.867...  \n",
              "4  POLYGON ((-76.41355 8.87383, -76.40465 8.85195...  "
            ],
            "text/html": [
              "\n",
              "  <div id=\"df-1a5a2d38-89bc-47b7-b47e-48478845741d\">\n",
              "    <div class=\"colab-df-container\">\n",
              "      <div>\n",
              "<style scoped>\n",
              "    .dataframe tbody tr th:only-of-type {\n",
              "        vertical-align: middle;\n",
              "    }\n",
              "\n",
              "    .dataframe tbody tr th {\n",
              "        vertical-align: top;\n",
              "    }\n",
              "\n",
              "    .dataframe thead th {\n",
              "        text-align: right;\n",
              "    }\n",
              "</style>\n",
              "<table border=\"1\" class=\"dataframe\">\n",
              "  <thead>\n",
              "    <tr style=\"text-align: right;\">\n",
              "      <th></th>\n",
              "      <th>COLE_COD_DEPTO_UBICACION</th>\n",
              "      <th>ESTU_GENERO</th>\n",
              "      <th>mean_depto_math</th>\n",
              "      <th>DPTO_CCDGO</th>\n",
              "      <th>DPTO_CNMBR</th>\n",
              "      <th>SHAPE_AREA</th>\n",
              "      <th>SHAPE_LEN</th>\n",
              "      <th>geometry</th>\n",
              "    </tr>\n",
              "  </thead>\n",
              "  <tbody>\n",
              "    <tr>\n",
              "      <th>0</th>\n",
              "      <td>17</td>\n",
              "      <td>M</td>\n",
              "      <td>51.013277</td>\n",
              "      <td>17</td>\n",
              "      <td>CALDAS</td>\n",
              "      <td>0.605498</td>\n",
              "      <td>6.655844</td>\n",
              "      <td>POLYGON ((-74.67154 5.77147, -74.67054 5.76896...</td>\n",
              "    </tr>\n",
              "    <tr>\n",
              "      <th>1</th>\n",
              "      <td>11</td>\n",
              "      <td>F</td>\n",
              "      <td>54.910477</td>\n",
              "      <td>11</td>\n",
              "      <td>BOGOTÁ, D.C.</td>\n",
              "      <td>0.132208</td>\n",
              "      <td>3.760453</td>\n",
              "      <td>POLYGON ((-74.07419 4.83655, -74.07401 4.83647...</td>\n",
              "    </tr>\n",
              "    <tr>\n",
              "      <th>2</th>\n",
              "      <td>73</td>\n",
              "      <td>M</td>\n",
              "      <td>49.570133</td>\n",
              "      <td>73</td>\n",
              "      <td>TOLIMA</td>\n",
              "      <td>1.965027</td>\n",
              "      <td>9.549726</td>\n",
              "      <td>POLYGON ((-74.82173 5.31671, -74.82156 5.31653...</td>\n",
              "    </tr>\n",
              "    <tr>\n",
              "      <th>3</th>\n",
              "      <td>20</td>\n",
              "      <td>F</td>\n",
              "      <td>49.316756</td>\n",
              "      <td>20</td>\n",
              "      <td>CESAR</td>\n",
              "      <td>1.857960</td>\n",
              "      <td>12.611247</td>\n",
              "      <td>POLYGON ((-73.45374 10.86767, -73.45358 10.867...</td>\n",
              "    </tr>\n",
              "    <tr>\n",
              "      <th>4</th>\n",
              "      <td>5</td>\n",
              "      <td>F</td>\n",
              "      <td>49.638535</td>\n",
              "      <td>5</td>\n",
              "      <td>ANTIOQUIA</td>\n",
              "      <td>5.134915</td>\n",
              "      <td>21.443760</td>\n",
              "      <td>POLYGON ((-76.41355 8.87383, -76.40465 8.85195...</td>\n",
              "    </tr>\n",
              "  </tbody>\n",
              "</table>\n",
              "</div>\n",
              "      <button class=\"colab-df-convert\" onclick=\"convertToInteractive('df-1a5a2d38-89bc-47b7-b47e-48478845741d')\"\n",
              "              title=\"Convert this dataframe to an interactive table.\"\n",
              "              style=\"display:none;\">\n",
              "        \n",
              "  <svg xmlns=\"http://www.w3.org/2000/svg\" height=\"24px\"viewBox=\"0 0 24 24\"\n",
              "       width=\"24px\">\n",
              "    <path d=\"M0 0h24v24H0V0z\" fill=\"none\"/>\n",
              "    <path d=\"M18.56 5.44l.94 2.06.94-2.06 2.06-.94-2.06-.94-.94-2.06-.94 2.06-2.06.94zm-11 1L8.5 8.5l.94-2.06 2.06-.94-2.06-.94L8.5 2.5l-.94 2.06-2.06.94zm10 10l.94 2.06.94-2.06 2.06-.94-2.06-.94-.94-2.06-.94 2.06-2.06.94z\"/><path d=\"M17.41 7.96l-1.37-1.37c-.4-.4-.92-.59-1.43-.59-.52 0-1.04.2-1.43.59L10.3 9.45l-7.72 7.72c-.78.78-.78 2.05 0 2.83L4 21.41c.39.39.9.59 1.41.59.51 0 1.02-.2 1.41-.59l7.78-7.78 2.81-2.81c.8-.78.8-2.07 0-2.86zM5.41 20L4 18.59l7.72-7.72 1.47 1.35L5.41 20z\"/>\n",
              "  </svg>\n",
              "      </button>\n",
              "      \n",
              "  <style>\n",
              "    .colab-df-container {\n",
              "      display:flex;\n",
              "      flex-wrap:wrap;\n",
              "      gap: 12px;\n",
              "    }\n",
              "\n",
              "    .colab-df-convert {\n",
              "      background-color: #E8F0FE;\n",
              "      border: none;\n",
              "      border-radius: 50%;\n",
              "      cursor: pointer;\n",
              "      display: none;\n",
              "      fill: #1967D2;\n",
              "      height: 32px;\n",
              "      padding: 0 0 0 0;\n",
              "      width: 32px;\n",
              "    }\n",
              "\n",
              "    .colab-df-convert:hover {\n",
              "      background-color: #E2EBFA;\n",
              "      box-shadow: 0px 1px 2px rgba(60, 64, 67, 0.3), 0px 1px 3px 1px rgba(60, 64, 67, 0.15);\n",
              "      fill: #174EA6;\n",
              "    }\n",
              "\n",
              "    [theme=dark] .colab-df-convert {\n",
              "      background-color: #3B4455;\n",
              "      fill: #D2E3FC;\n",
              "    }\n",
              "\n",
              "    [theme=dark] .colab-df-convert:hover {\n",
              "      background-color: #434B5C;\n",
              "      box-shadow: 0px 1px 3px 1px rgba(0, 0, 0, 0.15);\n",
              "      filter: drop-shadow(0px 1px 2px rgba(0, 0, 0, 0.3));\n",
              "      fill: #FFFFFF;\n",
              "    }\n",
              "  </style>\n",
              "\n",
              "      <script>\n",
              "        const buttonEl =\n",
              "          document.querySelector('#df-1a5a2d38-89bc-47b7-b47e-48478845741d button.colab-df-convert');\n",
              "        buttonEl.style.display =\n",
              "          google.colab.kernel.accessAllowed ? 'block' : 'none';\n",
              "\n",
              "        async function convertToInteractive(key) {\n",
              "          const element = document.querySelector('#df-1a5a2d38-89bc-47b7-b47e-48478845741d');\n",
              "          const dataTable =\n",
              "            await google.colab.kernel.invokeFunction('convertToInteractive',\n",
              "                                                     [key], {});\n",
              "          if (!dataTable) return;\n",
              "\n",
              "          const docLinkHtml = 'Like what you see? Visit the ' +\n",
              "            '<a target=\"_blank\" href=https://colab.research.google.com/notebooks/data_table.ipynb>data table notebook</a>'\n",
              "            + ' to learn more about interactive tables.';\n",
              "          element.innerHTML = '';\n",
              "          dataTable['output_type'] = 'display_data';\n",
              "          await google.colab.output.renderOutput(dataTable, element);\n",
              "          const docLink = document.createElement('div');\n",
              "          docLink.innerHTML = docLinkHtml;\n",
              "          element.appendChild(docLink);\n",
              "        }\n",
              "      </script>\n",
              "    </div>\n",
              "  </div>\n",
              "  "
            ]
          },
          "metadata": {},
          "execution_count": 106
        }
      ]
    }
  ],
  "metadata": {
    "colab": {
      "collapsed_sections": [],
      "name": "women_stem_project.ipynb",
      "provenance": [],
      "mount_file_id": "16sd5oithDFWqiFJqdptVrtlqpcInPfJ0",
      "authorship_tag": "ABX9TyO7c1+6nHvM7mCdpnoRLOB9",
      "include_colab_link": true
    },
    "kernelspec": {
      "display_name": "Python 3",
      "name": "python3"
    },
    "language_info": {
      "name": "python"
    }
  },
  "nbformat": 4,
  "nbformat_minor": 0
}